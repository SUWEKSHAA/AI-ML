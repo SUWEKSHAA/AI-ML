{
  "cells": [
    {
      "cell_type": "markdown",
      "metadata": {
        "id": "SxV-QBHp-B6J"
      },
      "source": [
        "## Helper Function for Text Cleaning:\n",
        "\n",
        "Implement a Helper Function as per Text Preprocessing Notebook and Complete the following pipeline."
      ]
    },
    {
      "cell_type": "code",
      "execution_count": 1,
      "metadata": {},
      "outputs": [
        {
          "name": "stderr",
          "output_type": "stream",
          "text": [
            "[nltk_data] Downloading package punkt_tab to /home/biraj/nltk_data...\n",
            "[nltk_data]   Package punkt_tab is already up-to-date!\n"
          ]
        }
      ],
      "source": [
        "import nltk\n",
        "nltk.download('punkt_tab')\n",
        "from nltk import word_tokenize"
      ]
    },
    {
      "cell_type": "code",
      "execution_count": 2,
      "metadata": {},
      "outputs": [
        {
          "name": "stdout",
          "output_type": "stream",
          "text": [
            "this is some normalized text\n"
          ]
        }
      ],
      "source": [
        "def lower_order(text):\n",
        "  \"\"\"\n",
        "  This function converts all the text in input text to lower order.\n",
        "  Input Args:\n",
        "  token_text : input text.\n",
        "  Returns:\n",
        "  small_order_text : text converted to small/lower order.\n",
        "  \"\"\"\n",
        "  small_order_text = text.lower()\n",
        "  return small_order_text\n",
        "\n",
        "# Test:\n",
        "sample_text = \"This Is some Normalized TEXT\"\n",
        "sample_small = lower_order(sample_text)\n",
        "print(sample_small)"
      ]
    },
    {
      "cell_type": "code",
      "execution_count": 3,
      "metadata": {},
      "outputs": [],
      "source": [
        "import re\n",
        "def remove_urls(text):\n",
        "  \"\"\"\n",
        "  This function will try to remove URL present in out dataset and replace it with space using regex library.\n",
        "  Input Args:\n",
        "  text: strings of text that may contain URLs.\n",
        "  Output Args:\n",
        "  text: URLs replaces with text\n",
        "  \"\"\"\n",
        "  url_pattern = re.compile(r'https?://\\S+|www\\.\\S+')\n",
        "  return url_pattern.sub(r'', text)"
      ]
    },
    {
      "cell_type": "code",
      "execution_count": 4,
      "metadata": {},
      "outputs": [],
      "source": [
        "def remove_emoji(string):\n",
        "  \"\"\"\n",
        "  This function will replace the emoji in string with whitespace\n",
        "  \"\"\"\n",
        "  emoji_pattern = re.compile(\"[\"\n",
        "                           u\"\\U0001F600-\\U0001F64F\"  # emoticons\n",
        "                           u\"\\U0001F300-\\U0001F5FF\"  # symbols & pictographs\n",
        "                           u\"\\U0001F680-\\U0001F6FF\"  # transport & map symbols\n",
        "                           u\"\\U0001F1E0-\\U0001F1FF\"  # flags (iOS)\n",
        "                           u\"\\U00002702-\\U000027B0\"\n",
        "                           u\"\\U000024C2-\\U0001F251\"\n",
        "                           \"]+\", flags=re.UNICODE)\n",
        "  return emoji_pattern.sub(r' ', string)"
      ]
    },
    {
      "cell_type": "code",
      "execution_count": 5,
      "metadata": {},
      "outputs": [],
      "source": [
        "def removeunwanted_characters(document):\n",
        "  \"\"\"\n",
        "  This function will remove all the unwanted characters from the input dataset.\n",
        "  Input Args:\n",
        "  documet: A text data to be cleaned.\n",
        "  Return:\n",
        "  A cleaned document.\n",
        "  \"\"\"\n",
        "  # remove user mentions\n",
        "  document = re.sub(\"@[A-Za-z0-9_]+\",\" \", document)\n",
        "  # remove hashtags\n",
        "  document = re.sub(\"#[A-Za-z0-9_]+\",\"\", document)\n",
        "  # remove punctuation\n",
        "  document = re.sub(\"[^0-9A-Za-z ]\", \"\" , document)\n",
        "  #remove emojis\n",
        "  document = remove_emoji(document)\n",
        "  # remove double spaces\n",
        "  document = document.replace('  ',\"\")\n",
        "  return document.strip()"
      ]
    },
    {
      "cell_type": "code",
      "execution_count": 6,
      "metadata": {},
      "outputs": [
        {
          "name": "stderr",
          "output_type": "stream",
          "text": [
            "[nltk_data] Downloading package stopwords to /home/biraj/nltk_data...\n",
            "[nltk_data]   Package stopwords is already up-to-date!\n"
          ]
        }
      ],
      "source": [
        "nltk.download('stopwords')\n",
        "from nltk.corpus import stopwords\n",
        "from nltk.tokenize import word_tokenize\n",
        "stop_words = set(stopwords.words('english'))\n",
        "custom_stopwords = ['@', 'RT']\n",
        "stop_words.update(custom_stopwords)"
      ]
    },
    {
      "cell_type": "code",
      "execution_count": 7,
      "metadata": {},
      "outputs": [],
      "source": [
        "\n",
        "def remove_stopwords(text_tokens):\n",
        "  \"\"\"\n",
        "  This function removes all the stopwords present in out text tokens.\n",
        "  Input Args:\n",
        "  text_tokens: tokenize input of our datasets.\n",
        "  Returns:\n",
        "  result_tokens: list of token without stopword.\n",
        "  \"\"\"\n",
        "\n",
        "  result_tokens = []\n",
        "  for token in text_tokens:\n",
        "    if token not in stop_words:\n",
        "       result_tokens.append(token)\n",
        "  return result_tokens"
      ]
    },
    {
      "cell_type": "code",
      "execution_count": 8,
      "metadata": {},
      "outputs": [
        {
          "name": "stderr",
          "output_type": "stream",
          "text": [
            "[nltk_data] Downloading package averaged_perceptron_tagger to\n",
            "[nltk_data]     /home/biraj/nltk_data...\n"
          ]
        },
        {
          "name": "stderr",
          "output_type": "stream",
          "text": [
            "[nltk_data]   Package averaged_perceptron_tagger is already up-to-\n",
            "[nltk_data]       date!\n",
            "[nltk_data] Downloading package wordnet to /home/biraj/nltk_data...\n",
            "[nltk_data]   Package wordnet is already up-to-date!\n"
          ]
        }
      ],
      "source": [
        "from nltk.stem import WordNetLemmatizer\n",
        "from nltk import word_tokenize,pos_tag\n",
        "nltk.download('averaged_perceptron_tagger')\n",
        "nltk.download('wordnet')\n",
        "\n",
        "def lemmatization(token_text):\n",
        "  \"\"\"\n",
        "  This function performs the lemmatization operations as explained above.\n",
        "  Input Args:\n",
        "  token_text: list of tokens.\n",
        "  Returns:\n",
        "  lemmatized_tokens: list of lemmatized tokens.\n",
        "  \"\"\"\n",
        "  lemma_tokens = []\n",
        "  wordnet = WordNetLemmatizer()\n",
        "  lemmatized_tokens = [wordnet.lemmatize(token, pos = 'v') for token in token_text]\n",
        "\n",
        "  return lemmatized_tokens"
      ]
    },
    {
      "cell_type": "code",
      "execution_count": 9,
      "metadata": {},
      "outputs": [],
      "source": [
        "from nltk.stem import PorterStemmer\n",
        "\n",
        "def stemming(text):\n",
        "  \"\"\"\n",
        "  This function performs stemming operations.\n",
        "  Input Args:\n",
        "  token_text: list of tokenize text.\n",
        "  Returns:\n",
        "  stemm_tokes: list of stemmed tokens.\n",
        "  \"\"\"\n",
        "  porter = PorterStemmer()\n",
        "  stemm_tokens = []\n",
        "  for word in text:\n",
        "    stemm_tokens.append(porter.stem(word))\n",
        "  return stemm_tokens"
      ]
    },
    {
      "cell_type": "markdown",
      "metadata": {
        "id": "B-llg-TI_Drw"
      },
      "source": [
        "# Build a Text Cleaning Pipeline"
      ]
    },
    {
      "cell_type": "code",
      "execution_count": 10,
      "metadata": {
        "id": "KCT1T3-68tN9"
      },
      "outputs": [],
      "source": [
        "def text_cleaning_pipeline(dataset, rule = \"lemmatize\"):\n",
        "  \"\"\"\n",
        "  This...\n",
        "  \"\"\"\n",
        "  # Convert the input to small/lower order.\n",
        "  data = lower_order(dataset)\n",
        "  # Remove URLs\n",
        "  data = remove_urls(data)\n",
        "  # Remove emojis\n",
        "  data = remove_emoji(data)\n",
        "  # Remove all other unwanted characters.\n",
        "  data = removeunwanted_characters(data)\n",
        "  # Create tokens.\n",
        "  tokens = data.split()\n",
        "  # Remove stopwords:\n",
        "  tokens =  remove_stopwords(tokens)\n",
        "  if rule == \"lemmatize\":\n",
        "    tokens =  lemmatization(tokens)\n",
        "  elif rule == \"stem\":\n",
        "    tokens =  stemming(tokens)\n",
        "  else:\n",
        "    print(\"Pick between lemmatize or stem\")\n",
        "\n",
        "\n",
        "  return \" \".join(tokens)"
      ]
    },
    {
      "cell_type": "markdown",
      "metadata": {
        "id": "hzMm4-1KCNkH"
      },
      "source": [
        "# Text Classification using Machine Learning Models\n"
      ]
    },
    {
      "cell_type": "markdown",
      "metadata": {
        "id": "oFltIxr9L2Wu"
      },
      "source": [
        "### 📝 Instructions: Trump Tweet Sentiment Classification\n",
        "\n",
        "1. **Load the Dataset**  \n",
        "   Load the dataset named `\"trump_tweet_sentiment_analysis.csv\"` using `pandas`. Ensure the dataset contains at least two columns: `\"text\"` and `\"label\"`.\n",
        "\n",
        "2. **Text Cleaning and Tokenization**  \n",
        "   Apply a text preprocessing pipeline to the `\"text\"` column. This should include:\n",
        "   - Lowercasing the text  \n",
        "   - Removing URLs, mentions, punctuation, and special characters  \n",
        "   - Removing stopwords  \n",
        "   - Tokenization (optional: stemming or lemmatization)\n",
        "   - \"Complete the above function\"\n",
        "\n",
        "3. **Train-Test Split**  \n",
        "   Split the cleaned and tokenized dataset into **training** and **testing** sets using `train_test_split` from `sklearn.model_selection`.\n",
        "\n",
        "4. **TF-IDF Vectorization**  \n",
        "   Import and use the `TfidfVectorizer` from `sklearn.feature_extraction.text` to transform the training and testing texts into numerical feature vectors.\n",
        "\n",
        "5. **Model Training and Evaluation**  \n",
        "   Import **Logistic Regression** (or any machine learning model of your choice) from `sklearn.linear_model`. Train it on the TF-IDF-embedded training data, then evaluate it using the test set.  \n",
        "   - Print the **classification report** using `classification_report` from `sklearn.metrics`.\n"
      ]
    },
    {
      "cell_type": "markdown",
      "metadata": {},
      "source": [
        "## Step 1: Loading the Dataset\n",
        "\n",
        "Let's load the Trump tweet sentiment analysis dataset and explore its structure."
      ]
    },
    {
      "cell_type": "code",
      "execution_count": 13,
      "metadata": {},
      "outputs": [
        {
          "name": "stdout",
          "output_type": "stream",
          "text": [
            "Dataset shape: (1850123, 2)\n",
            "\n",
            "First 5 rows:\n"
          ]
        },
        {
          "data": {
            "text/html": [
              "<div>\n",
              "<style scoped>\n",
              "    .dataframe tbody tr th:only-of-type {\n",
              "        vertical-align: middle;\n",
              "    }\n",
              "\n",
              "    .dataframe tbody tr th {\n",
              "        vertical-align: top;\n",
              "    }\n",
              "\n",
              "    .dataframe thead th {\n",
              "        text-align: right;\n",
              "    }\n",
              "</style>\n",
              "<table border=\"1\" class=\"dataframe\">\n",
              "  <thead>\n",
              "    <tr style=\"text-align: right;\">\n",
              "      <th></th>\n",
              "      <th>text</th>\n",
              "      <th>Sentiment</th>\n",
              "    </tr>\n",
              "  </thead>\n",
              "  <tbody>\n",
              "    <tr>\n",
              "      <th>0</th>\n",
              "      <td>RT @JohnLeguizamo: #trump not draining swamp b...</td>\n",
              "      <td>0</td>\n",
              "    </tr>\n",
              "    <tr>\n",
              "      <th>1</th>\n",
              "      <td>ICYMI: Hackers Rig FM Radio Stations To Play A...</td>\n",
              "      <td>0</td>\n",
              "    </tr>\n",
              "    <tr>\n",
              "      <th>2</th>\n",
              "      <td>Trump protests: LGBTQ rally in New York https:...</td>\n",
              "      <td>1</td>\n",
              "    </tr>\n",
              "    <tr>\n",
              "      <th>3</th>\n",
              "      <td>\"Hi I'm Piers Morgan. David Beckham is awful b...</td>\n",
              "      <td>0</td>\n",
              "    </tr>\n",
              "    <tr>\n",
              "      <th>4</th>\n",
              "      <td>RT @GlennFranco68: Tech Firm Suing BuzzFeed fo...</td>\n",
              "      <td>0</td>\n",
              "    </tr>\n",
              "  </tbody>\n",
              "</table>\n",
              "</div>"
            ],
            "text/plain": [
              "                                                text  Sentiment\n",
              "0  RT @JohnLeguizamo: #trump not draining swamp b...          0\n",
              "1  ICYMI: Hackers Rig FM Radio Stations To Play A...          0\n",
              "2  Trump protests: LGBTQ rally in New York https:...          1\n",
              "3  \"Hi I'm Piers Morgan. David Beckham is awful b...          0\n",
              "4  RT @GlennFranco68: Tech Firm Suing BuzzFeed fo...          0"
            ]
          },
          "metadata": {},
          "output_type": "display_data"
        },
        {
          "name": "stdout",
          "output_type": "stream",
          "text": [
            "\n",
            "Column information:\n",
            "<class 'pandas.core.frame.DataFrame'>\n",
            "RangeIndex: 1850123 entries, 0 to 1850122\n",
            "Data columns (total 2 columns):\n",
            " #   Column     Dtype \n",
            "---  ------     ----- \n",
            " 0   text       object\n",
            " 1   Sentiment  int64 \n",
            "dtypes: int64(1), object(1)\n",
            "memory usage: 28.2+ MB\n",
            "None\n",
            "\n",
            "Missing values:\n",
            "text         0\n",
            "Sentiment    0\n",
            "dtype: int64\n"
          ]
        }
      ],
      "source": [
        "import pandas as pd\n",
        "import numpy as np\n",
        "import matplotlib.pyplot as plt\n",
        "import seaborn as sns\n",
        "\n",
        "# Load the dataset\n",
        "df = pd.read_csv('./trum_tweet_sentiment_analysis.csv')\n",
        "\n",
        "# Display basic information about the dataset\n",
        "print(f\"Dataset shape: {df.shape}\")\n",
        "print(\"\\nFirst 5 rows:\")\n",
        "display(df.head())\n",
        "\n",
        "# Check column names and data types\n",
        "print(\"\\nColumn information:\")\n",
        "print(df.info())\n",
        "\n",
        "# Check for missing values\n",
        "print(\"\\nMissing values:\")\n",
        "print(df.isnull().sum())\n",
        "\n",
        "# Check the distribution of sentiment labels\n",
        "if 'label' in df.columns:\n",
        "    print(\"\\nSentiment label distribution:\")\n",
        "    print(df['label'].value_counts())"
      ]
    },
    {
      "cell_type": "markdown",
      "metadata": {},
      "source": [
        "## Step 2: Text Cleaning and Tokenization\n",
        "\n",
        "Now let's apply the preprocessing pipeline to clean the text data."
      ]
    },
    {
      "cell_type": "code",
      "execution_count": 14,
      "metadata": {},
      "outputs": [
        {
          "name": "stdout",
          "output_type": "stream",
          "text": [
            "Applying text preprocessing pipeline...\n",
            "\n",
            "Original vs. Cleaned Text Examples:\n"
          ]
        },
        {
          "data": {
            "text/html": [
              "<div>\n",
              "<style scoped>\n",
              "    .dataframe tbody tr th:only-of-type {\n",
              "        vertical-align: middle;\n",
              "    }\n",
              "\n",
              "    .dataframe tbody tr th {\n",
              "        vertical-align: top;\n",
              "    }\n",
              "\n",
              "    .dataframe thead th {\n",
              "        text-align: right;\n",
              "    }\n",
              "</style>\n",
              "<table border=\"1\" class=\"dataframe\">\n",
              "  <thead>\n",
              "    <tr style=\"text-align: right;\">\n",
              "      <th></th>\n",
              "      <th>Original Text</th>\n",
              "      <th>Cleaned Text</th>\n",
              "    </tr>\n",
              "  </thead>\n",
              "  <tbody>\n",
              "    <tr>\n",
              "      <th>0</th>\n",
              "      <td>RT @JohnLeguizamo: #trump not draining swamp b...</td>\n",
              "      <td>rtnot drain swamp taxpayer dollars trip advert...</td>\n",
              "    </tr>\n",
              "    <tr>\n",
              "      <th>1</th>\n",
              "      <td>ICYMI: Hackers Rig FM Radio Stations To Play A...</td>\n",
              "      <td>icymi hackers rig fm radio station play antitr...</td>\n",
              "    </tr>\n",
              "    <tr>\n",
              "      <th>2</th>\n",
              "      <td>Trump protests: LGBTQ rally in New York https:...</td>\n",
              "      <td>trump protest lgbtq rally new yorkbyvia</td>\n",
              "    </tr>\n",
              "  </tbody>\n",
              "</table>\n",
              "</div>"
            ],
            "text/plain": [
              "                                       Original Text  \\\n",
              "0  RT @JohnLeguizamo: #trump not draining swamp b...   \n",
              "1  ICYMI: Hackers Rig FM Radio Stations To Play A...   \n",
              "2  Trump protests: LGBTQ rally in New York https:...   \n",
              "\n",
              "                                        Cleaned Text  \n",
              "0  rtnot drain swamp taxpayer dollars trip advert...  \n",
              "1  icymi hackers rig fm radio station play antitr...  \n",
              "2            trump protest lgbtq rally new yorkbyvia  "
            ]
          },
          "metadata": {},
          "output_type": "display_data"
        }
      ],
      "source": [
        "# Apply the text cleaning pipeline to the text column\n",
        "print(\"Applying text preprocessing pipeline...\")\n",
        "\n",
        "# Check if text column exists and preprocess it\n",
        "if 'text' in df.columns:\n",
        "    # Using the text_cleaning_pipeline function we already defined\n",
        "    # Apply lemmatization for better semantic meaning preservation\n",
        "    df['cleaned_text'] = df['text'].apply(lambda x: text_cleaning_pipeline(x, rule=\"lemmatize\"))\n",
        "else:\n",
        "    # If 'text' column doesn't exist, try to find a similar column name\n",
        "    text_columns = [col for col in df.columns if 'text' in col.lower() or 'tweet' in col.lower()]\n",
        "    if text_columns:\n",
        "        df['cleaned_text'] = df[text_columns[0]].apply(lambda x: text_cleaning_pipeline(x, rule=\"lemmatize\"))\n",
        "        print(f\"Using '{text_columns[0]}' as the text column\")\n",
        "    else:\n",
        "        raise ValueError(\"No text column found in the dataset.\")\n",
        "\n",
        "# Display a few examples of original and cleaned text\n",
        "print(\"\\nOriginal vs. Cleaned Text Examples:\")\n",
        "comparison_df = pd.DataFrame({\n",
        "    'Original Text': df['text'].iloc[:3],\n",
        "    'Cleaned Text': df['cleaned_text'].iloc[:3]\n",
        "})\n",
        "display(comparison_df)"
      ]
    },
    {
      "cell_type": "markdown",
      "metadata": {},
      "source": [
        "## Step 3: Train-Test Split\n",
        "\n",
        "Split the cleaned data into training and testing sets."
      ]
    },
    {
      "cell_type": "code",
      "execution_count": 16,
      "metadata": {},
      "outputs": [
        {
          "name": "stdout",
          "output_type": "stream",
          "text": [
            "Training set shape: (1480098,) samples\n",
            "Testing set shape: (370025,) samples\n"
          ]
        }
      ],
      "source": [
        "from sklearn.model_selection import train_test_split\n",
        "\n",
        "# Check if label column exists\n",
        "label_col = 'label' if 'label' in df.columns else [col for col in df.columns if 'sentiment' in col.lower() or 'label' in col.lower()][0]\n",
        "\n",
        "# Split the data into train and test sets (80% train, 20% test)\n",
        "X_train, X_test, y_train, y_test = train_test_split(\n",
        "    df['cleaned_text'], \n",
        "    df[label_col], \n",
        "    test_size=0.2, \n",
        "    random_state=42\n",
        ")\n",
        "\n",
        "# Display the shape of the resulting datasets\n",
        "print(f\"Training set shape: {X_train.shape} samples\")\n",
        "print(f\"Testing set shape: {X_test.shape} samples\")"
      ]
    },
    {
      "cell_type": "markdown",
      "metadata": {},
      "source": [
        "## Step 4: TF-IDF Vectorization\n",
        "\n",
        "Convert the text data to TF-IDF features."
      ]
    },
    {
      "cell_type": "code",
      "execution_count": 17,
      "metadata": {},
      "outputs": [
        {
          "name": "stdout",
          "output_type": "stream",
          "text": [
            "Training TF-IDF matrix shape: (1480098, 5000)\n",
            "Testing TF-IDF matrix shape: (370025, 5000)\n",
            "\n",
            "Number of features (words): 5000\n",
            "Sample features: ['10' '100' '1000' '10000' '100000' '1000s' '100k' '10k' '11' '111416in']\n"
          ]
        }
      ],
      "source": [
        "from sklearn.feature_extraction.text import TfidfVectorizer\n",
        "\n",
        "# Initialize and fit TfidfVectorizer on training data\n",
        "tfidf_vectorizer = TfidfVectorizer(max_features=5000)  # Limiting to 5000 features for computational efficiency\n",
        "\n",
        "# Transform the training and testing data\n",
        "X_train_tfidf = tfidf_vectorizer.fit_transform(X_train)\n",
        "X_test_tfidf = tfidf_vectorizer.transform(X_test)\n",
        "\n",
        "# Display the shape of the TF-IDF matrices\n",
        "print(f\"Training TF-IDF matrix shape: {X_train_tfidf.shape}\")\n",
        "print(f\"Testing TF-IDF matrix shape: {X_test_tfidf.shape}\")\n",
        "\n",
        "# Get the feature names (words) from the vectorizer\n",
        "feature_names = tfidf_vectorizer.get_feature_names_out()\n",
        "print(f\"\\nNumber of features (words): {len(feature_names)}\")\n",
        "print(f\"Sample features: {feature_names[:10]}\")"
      ]
    },
    {
      "cell_type": "markdown",
      "metadata": {},
      "source": [
        "## Step 5: Model Training and Evaluation\n",
        "\n",
        "Now let's train a Logistic Regression model on the TF-IDF vectors and evaluate its performance."
      ]
    },
    {
      "cell_type": "code",
      "execution_count": 18,
      "metadata": {},
      "outputs": [
        {
          "name": "stdout",
          "output_type": "stream",
          "text": [
            "Training the Logistic Regression model...\n",
            "Training completed in 19.10 seconds.\n",
            "\n",
            "Model Evaluation:\n",
            "Accuracy: 0.9228\n",
            "\n",
            "Classification Report:\n",
            "              precision    recall  f1-score   support\n",
            "\n",
            "           0       0.93      0.96      0.94    248563\n",
            "           1       0.90      0.86      0.88    121462\n",
            "\n",
            "    accuracy                           0.92    370025\n",
            "   macro avg       0.92      0.91      0.91    370025\n",
            "weighted avg       0.92      0.92      0.92    370025\n",
            "\n"
          ]
        }
      ],
      "source": [
        "from sklearn.linear_model import LogisticRegression\n",
        "from sklearn.metrics import classification_report, accuracy_score, confusion_matrix\n",
        "import time\n",
        "\n",
        "# Create a Logistic Regression classifier\n",
        "lr_model = LogisticRegression(max_iter=1000, random_state=42)  # Increased max_iter for better convergence\n",
        "\n",
        "# Train the model on the TF-IDF vectors\n",
        "print(\"Training the Logistic Regression model...\")\n",
        "start_time = time.time()\n",
        "lr_model.fit(X_train_tfidf, y_train)\n",
        "end_time = time.time()\n",
        "print(f\"Training completed in {end_time - start_time:.2f} seconds.\")\n",
        "\n",
        "# Make predictions on the test set\n",
        "y_pred = lr_model.predict(X_test_tfidf)\n",
        "\n",
        "# Evaluate the model\n",
        "print(\"\\nModel Evaluation:\")\n",
        "print(f\"Accuracy: {accuracy_score(y_test, y_pred):.4f}\")\n",
        "\n",
        "# Print the classification report\n",
        "print(\"\\nClassification Report:\")\n",
        "print(classification_report(y_test, y_pred))"
      ]
    },
    {
      "cell_type": "code",
      "execution_count": 19,
      "metadata": {},
      "outputs": [
        {
          "data": {
            "image/png": "[encoded data removed]",
            "text/plain": [
              "<Figure size 800x600 with 2 Axes>"
            ]
          },
          "metadata": {},
          "output_type": "display_data"
        }
      ],
      "source": [
        "# Visualize the confusion matrix\n",
        "plt.figure(figsize=(8, 6))\n",
        "cm = confusion_matrix(y_test, y_pred)\n",
        "sns.heatmap(cm, annot=True, fmt='d', cmap='Blues')\n",
        "plt.xlabel('Predicted')\n",
        "plt.ylabel('Actual')\n",
        "plt.title('Confusion Matrix')\n",
        "plt.show()"
      ]
    },
    {
      "cell_type": "markdown",
      "metadata": {},
      "source": [
        "## Testing the Model with Custom Tweets\n",
        "\n",
        "Let's create a function to make predictions on custom tweets and test it with some examples."
      ]
    },
    {
      "cell_type": "code",
      "execution_count": 20,
      "metadata": {},
      "outputs": [
        {
          "name": "stdout",
          "output_type": "stream",
          "text": [
            "Custom Tweet Sentiment Analysis:\n",
            "--------------------------------------------------------------------------------\n",
            "Original: I love how President Trump is handling the economy! Great job! #MAGA\n",
            "Cleaned: love president trump handle economy great job\n",
            "Prediction: Positive (Confidence: 0.9985)\n",
            "Probability Distribution: Negative: 0.0015, Positive: 0.9985\n",
            "--------------------------------------------------------------------------------\n",
            "Original: Trump's policies are ruining our country and dividing people.\n",
            "Cleaned: trump policies ruin country divide people\n",
            "Prediction: Negative (Confidence: 0.9947)\n",
            "Probability Distribution: Negative: 0.9947, Positive: 0.0053\n",
            "--------------------------------------------------------------------------------\n",
            "Original: Just heard Trump's speech today. Very impressive and presidential.\n",
            "Cleaned: hear trump speech today impressive presidential\n",
            "Prediction: Positive (Confidence: 0.6890)\n",
            "Probability Distribution: Negative: 0.3110, Positive: 0.6890\n",
            "--------------------------------------------------------------------------------\n",
            "Original: Can't believe the media bias against Trump. So unfair!\n",
            "Cleaned: cant believe media bias trump unfair\n",
            "Prediction: Negative (Confidence: 0.9995)\n",
            "Probability Distribution: Negative: 0.9995, Positive: 0.0005\n",
            "--------------------------------------------------------------------------------\n"
          ]
        }
      ],
      "source": [
        "def predict_sentiment(tweet_text, model=lr_model, vectorizer=tfidf_vectorizer):\n",
        "    \"\"\"\n",
        "    Predict the sentiment of a custom tweet using the trained model.\n",
        "    \n",
        "    Args:\n",
        "        tweet_text (str): The raw text of the tweet to analyze\n",
        "        model: The trained classification model\n",
        "        vectorizer: The fitted TF-IDF vectorizer\n",
        "    \n",
        "    Returns:\n",
        "        dict: Dictionary containing the original text, cleaned text, \n",
        "              prediction (0=negative, 1=positive), and confidence score\n",
        "    \"\"\"\n",
        "    # Clean the tweet text using our preprocessing pipeline\n",
        "    cleaned_tweet = text_cleaning_pipeline(tweet_text, rule=\"lemmatize\")\n",
        "    \n",
        "    # Transform the cleaned text using the TF-IDF vectorizer\n",
        "    tweet_vector = vectorizer.transform([cleaned_tweet])\n",
        "    \n",
        "    # Make a prediction\n",
        "    prediction = model.predict(tweet_vector)[0]\n",
        "    \n",
        "    # Get the probability/confidence score\n",
        "    proba = model.predict_proba(tweet_vector)[0]\n",
        "    confidence = proba[prediction]\n",
        "    \n",
        "    # Return the results\n",
        "    sentiment_label = \"Positive\" if prediction == 1 else \"Negative\"\n",
        "    \n",
        "    return {\n",
        "        \"original_text\": tweet_text,\n",
        "        \"cleaned_text\": cleaned_tweet,\n",
        "        \"prediction\": sentiment_label,\n",
        "        \"confidence\": confidence,\n",
        "        \"probabilities\": {\"Negative\": proba[0], \"Positive\": proba[1]}\n",
        "    }\n",
        "\n",
        "# Test with some custom tweets\n",
        "test_tweets = [\n",
        "    \"I love how President Trump is handling the economy! Great job! #MAGA\",\n",
        "    \"Trump's policies are ruining our country and dividing people.\",\n",
        "    \"Just heard Trump's speech today. Very impressive and presidential.\",\n",
        "    \"Can't believe the media bias against Trump. So unfair!\"\n",
        "]\n",
        "\n",
        "# Analyze each test tweet\n",
        "print(\"Custom Tweet Sentiment Analysis:\")\n",
        "print(\"-\" * 80)\n",
        "\n",
        "for tweet in test_tweets:\n",
        "    result = predict_sentiment(tweet)\n",
        "    print(f\"Original: {result['original_text']}\")\n",
        "    print(f\"Cleaned: {result['cleaned_text']}\")\n",
        "    print(f\"Prediction: {result['prediction']} (Confidence: {result['confidence']:.4f})\")\n",
        "    print(f\"Probability Distribution: Negative: {result['probabilities']['Negative']:.4f}, Positive: {result['probabilities']['Positive']:.4f}\")\n",
        "    print(\"-\" * 80)"
      ]
    }
  ],
  "metadata": {
    "colab": {
      "provenance": []
    },
    "kernelspec": {
      "display_name": "Python 3",
      "name": "python3"
    },
    "language_info": {
      "codemirror_mode": {
        "name": "ipython",
        "version": 3
      },
      "file_extension": ".py",
      "mimetype": "text/x-python",
      "name": "python",
      "nbconvert_exporter": "python",
      "pygments_lexer": "ipython3",
      "version": "3.13.3"
    }
  },
  "nbformat": 4,
  "nbformat_minor": 0
}
