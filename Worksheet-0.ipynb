{
 "cells": [
  {
   "cell_type": "markdown",
   "metadata": {},
   "source": [
    "# Python and NumPy for Deep Learning"
   ]
  },
  {
   "cell_type": "markdown",
   "metadata": {},
   "source": [
    "## 3.1 About a Python"
   ]
  },
  {
   "cell_type": "code",
   "execution_count": 1,
   "metadata": {},
   "outputs": [
    {
     "name": "stdout",
     "output_type": "stream",
     "text": [
      "Hello, World!\n",
      "Python version: 3.13.2 (main, Feb  5 2025, 08:05:21) [GCC 14.2.1 20250128]\n"
     ]
    }
   ],
   "source": [
    "import sys\n",
    "# Check Python version\n",
    "if sys.version_info.major == 3 and sys.version_info.minor >= 6:\n",
    "    print(\"Hello, World!\")\n",
    "    print(f\"Python version: {sys.version}\")\n",
    "else:\n",
    "    print(\"Please use Python 3.6 or higher.\")   "
   ]
  },
  {
   "cell_type": "markdown",
   "metadata": {},
   "source": [
    "## 3.2 Data Types in Python."
   ]
  },
  {
   "cell_type": "code",
   "execution_count": 2,
   "metadata": {},
   "outputs": [
    {
     "name": "stdout",
     "output_type": "stream",
     "text": [
      "Original List: [1, 2, 3]\n",
      "Modified List: [1, 2, 3, 4]\n",
      "Original Tuple: (1, 2, 3)\n"
     ]
    }
   ],
   "source": [
    "# Mutable Data Type Example (List)\n",
    "my_list = [1, 2, 3]\n",
    "print(\"Original List:\", my_list)\n",
    "# Modifying the list (changing contents)\n",
    "my_list.append(4)\n",
    "print(\"Modified List:\", my_list)\n",
    "# Immutable Data Type Example (Tuple)\n",
    "my_tuple = (1, 2, 3)\n",
    "print(\"Original Tuple:\", my_tuple)\n",
    "# Trying to modify the tuple (will raise an error)\n",
    "# my_tuple.append(4) # Uncommenting this line will raise an AttributeError"
   ]
  },
  {
   "cell_type": "markdown",
   "metadata": {},
   "source": [
    "### 3.2.1 Some Common Data Types in Python:"
   ]
  },
  {
   "cell_type": "markdown",
   "metadata": {},
   "source": [
    "**Numeric:**\n",
    "\n",
    "These data types are used to represent numerical values.\n",
    "- int: Represents integer values (e.g., 10, -3).\n",
    "- float: Represents floating-point (decimal) values (e.g., 10.5, -2.7).\n",
    "- complex: Represents complex numbers (e.g., 3 + 4j)."
   ]
  },
  {
   "cell_type": "code",
   "execution_count": 3,
   "metadata": {},
   "outputs": [
    {
     "name": "stdout",
     "output_type": "stream",
     "text": [
      "data type of variable age =  <class 'int'>\n",
      "data type of variable pi =  <class 'float'>\n",
      "data type of variable temperature =  <class 'float'>\n"
     ]
    }
   ],
   "source": [
    "age = 23 #int\n",
    "pi = 3.14 #float\n",
    "temperature = -5.5 #float\n",
    "print(\"data type of variable age = \", type(age))\n",
    "print(\"data type of variable pi = \", type(pi))\n",
    "print(\"data type of variable temperature = \", type(temperature))"
   ]
  },
  {
   "cell_type": "markdown",
   "metadata": {},
   "source": [
    "- **list:** Represents lists, which can contain mixed data types and are mutable (e.g., [\"apple\", \"banana\"])."
   ]
  },
  {
   "cell_type": "code",
   "execution_count": 5,
   "metadata": {},
   "outputs": [
    {
     "data": {
      "text/plain": [
       "[False, 'Hello', True]"
      ]
     },
     "execution_count": 5,
     "metadata": {},
     "output_type": "execute_result"
    }
   ],
   "source": [
    "list1 = [1, 2, 3, 4]\n",
    "mixed_list = [12, \"Hello\", True]\n",
    "# List is mutable\n",
    "mixed_list[0] = False\n",
    "mixed_list"
   ]
  },
  {
   "cell_type": "markdown",
   "metadata": {},
   "source": [
    "- **tuple:** Represents tuples, which are ordered and immutable collections (e.g., (1, 2, 3))."
   ]
  },
  {
   "cell_type": "code",
   "execution_count": 6,
   "metadata": {},
   "outputs": [
    {
     "name": "stdout",
     "output_type": "stream",
     "text": [
      "First element: red\n",
      "Last two elements: ('yellow', 'blue')\n",
      "Middle two elements: ('green', 'yellow')\n"
     ]
    },
    {
     "ename": "TypeError",
     "evalue": "'tuple' object does not support item assignment",
     "output_type": "error",
     "traceback": [
      "\u001b[31m---------------------------------------------------------------------------\u001b[39m",
      "\u001b[31mTypeError\u001b[39m                                 Traceback (most recent call last)",
      "\u001b[36mCell\u001b[39m\u001b[36m \u001b[39m\u001b[32mIn[6]\u001b[39m\u001b[32m, line 5\u001b[39m\n\u001b[32m      3\u001b[39m \u001b[38;5;28mprint\u001b[39m(\u001b[33m\"\u001b[39m\u001b[33mLast two elements:\u001b[39m\u001b[33m\"\u001b[39m, colors[\u001b[32m2\u001b[39m:])\n\u001b[32m      4\u001b[39m \u001b[38;5;28mprint\u001b[39m(\u001b[33m\"\u001b[39m\u001b[33mMiddle two elements:\u001b[39m\u001b[33m\"\u001b[39m, colors[\u001b[32m1\u001b[39m:\u001b[32m3\u001b[39m])\n\u001b[32m----> \u001b[39m\u001b[32m5\u001b[39m \u001b[43mcolors\u001b[49m\u001b[43m[\u001b[49m\u001b[32;43m0\u001b[39;49m\u001b[43m]\u001b[49m = \u001b[33m'\u001b[39m\u001b[33mpurple\u001b[39m\u001b[33m'\u001b[39m\n\u001b[32m      6\u001b[39m colors \u001b[38;5;66;03m# will generate an error as tuple is immutable.\u001b[39;00m\n",
      "\u001b[31mTypeError\u001b[39m: 'tuple' object does not support item assignment"
     ]
    }
   ],
   "source": [
    "colors = ('red', 'green', 'yellow', 'blue')\n",
    "print(\"First element:\", colors[0])\n",
    "print(\"Last two elements:\", colors[2:])\n",
    "print(\"Middle two elements:\", colors[1:3])\n",
    "colors[0] = 'purple'\n",
    "colors # will generate an error as tuple is immutable."
   ]
  },
  {
   "cell_type": "markdown",
   "metadata": {},
   "source": [
    "**Mapping:**\n",
    "\n",
    "This category includes data types that store key-value pairs, allowing for efficient retrieval based on\n",
    "keys.\n",
    "- **dict:** Represents dictionaries, which can store various data types as values associated with unique keys (e.g., \"name\": \"Alice\", \"age\": 25)."
   ]
  },
  {
   "cell_type": "code",
   "execution_count": 7,
   "metadata": {},
   "outputs": [
    {
     "name": "stdout",
     "output_type": "stream",
     "text": [
      "Hello my name is John. I am 30 years old and I live at Pittsburgh.\n",
      "All keys: ['name', 'age', 'city']\n",
      "All values: ['John', 30, 'Pittsburgh']\n"
     ]
    }
   ],
   "source": [
    "person = {'name': 'John', 'age': 30, 'city': 'Pittsburgh'}\n",
    "print(f\"Hello my name is {person['name']}. I am {person['age']} years old and I live at {person['city']}.\")\n",
    "print(\"All keys:\", list(person.keys()))\n",
    "print(\"All values:\", list(person.values()))\n"
   ]
  },
  {
   "cell_type": "markdown",
   "metadata": {},
   "source": [
    "**Set:**\n",
    "\n",
    "Sets are unordered collections of unique elements. They are useful for membership testing and eliminating duplicate entries.\n",
    "- **set:** A mutable collection of unique items (e.g., 1, 2, 3).\n",
    "- **frozenset:** An immutable version of a set (e.g., frozenset([1, 2, 3]))."
   ]
  },
  {
   "cell_type": "code",
   "execution_count": 8,
   "metadata": {},
   "outputs": [
    {
     "name": "stdout",
     "output_type": "stream",
     "text": [
      "{1, 2, 3, 4, 5}\n"
     ]
    }
   ],
   "source": [
    "unique_numbers = {1,2,3,3,3,3,4,5}\n",
    "print(unique_numbers)"
   ]
  },
  {
   "cell_type": "markdown",
   "metadata": {},
   "source": [
    "**Boolean:**\n",
    "\n",
    "This category contains types that represent truth values.\n",
    "- **bool:** Represents boolean values (True or False)."
   ]
  },
  {
   "cell_type": "code",
   "execution_count": 9,
   "metadata": {},
   "outputs": [
    {
     "name": "stdout",
     "output_type": "stream",
     "text": [
      "data type of the variable is_student =  <class 'bool'>\n",
      "data type of the variable has_license =  <class 'bool'>\n"
     ]
    }
   ],
   "source": [
    "is_student = True\n",
    "has_license = False\n",
    "print(\"data type of the variable is_student = \",type(is_student))\n",
    "print(\"data type of the variable has_license = \",type(has_license))"
   ]
  },
  {
   "cell_type": "markdown",
   "metadata": {},
   "source": [
    "**Sequence:**\n",
    "\n",
    "These data types are ordered collections of items. You can access elements by their position (index).\n",
    "- **str:** string (str) represents sequence of characters enclosed by double quotes or single quotes.\n",
    "(e.g., “Hello, World!”).It is an immutable sequence."
   ]
  },
  {
   "cell_type": "code",
   "execution_count": 4,
   "metadata": {},
   "outputs": [
    {
     "name": "stdout",
     "output_type": "stream",
     "text": [
      "data type of the variable name =  <class 'str'>\n",
      "data type of the variable greeting =  <class 'str'>\n",
      "data type of the variable address =  <class 'str'>\n",
      "The first letter of the name is: A\n",
      "The last letter of the name is: e\n",
      "The second letter to the fourth of the name is: lic\n",
      "The first two letters of the name are: Al\n",
      "Substring starting from the third letter is: ice\n"
     ]
    }
   ],
   "source": [
    "name = \"Alice\"\n",
    "greeting = 'Hello'\n",
    "address = \"123 Main St\"\n",
    "print(\"data type of the variable name = \",type(name))\n",
    "print(\"data type of the variable greeting = \",type(greeting))\n",
    "print(\"data type of the variable address = \",type(address))\n",
    "# slice only one element\n",
    "print(\"The first letter of the name is:\", name[0])\n",
    "print(\"The last letter of the name is:\", name[-1])\n",
    "# slice a range of elements\n",
    "print(\"The second letter to the fourth of the name is:\", name[1:4])\n",
    "print(\"The first two letters of the name are:\", name[:2])\n",
    "print(\"Substring starting from the third letter is:\", name[2:])"
   ]
  },
  {
   "cell_type": "markdown",
   "metadata": {},
   "source": [
    "**Special:**\n",
    "\n",
    "This category is used for unique data types that do not fit into the other categories.\n",
    "- **NoneType:** Represents the absence of a value or a null value (e.g., None)"
   ]
  },
  {
   "cell_type": "code",
   "execution_count": 10,
   "metadata": {},
   "outputs": [],
   "source": [
    "result = None"
   ]
  },
  {
   "cell_type": "markdown",
   "metadata": {},
   "source": [
    "## 4.1 Exercise on Functions\n",
    "\n",
    "### Task 1: Unit Conversion Program\n",
    "Create a Python program that converts between different units of measurement.\n",
    "\n",
    "**Requirements:**\n",
    "- Prompt the user to choose the type of conversion (Length, Weight, or Volume).\n",
    "- Ask the user to input the value to be converted.\n",
    "- Perform the conversion and display the result.\n",
    "- Use at least one function with an appropriate docstring.\n",
    "- Handle potential errors (e.g., non-numeric input or unsupported conversion type) with `try-except`.\n",
    "\n",
    "**Conversion Options:**\n",
    "- **Length:** \n",
    "  - Convert meters (m) to feet (ft)\n",
    "  - Convert feet (ft) to meters (m)\n",
    "- **Weight:** \n",
    "  - Convert kilograms (kg) to pounds (lbs)\n",
    "  - Convert pounds (lbs) to kilograms (kg)\n",
    "- **Volume:** \n",
    "  - Convert liters (L) to gallons (gal)\n",
    "  - Convert gallons (gal) to liters (L)"
   ]
  },
  {
   "cell_type": "code",
   "execution_count": 1,
   "metadata": {},
   "outputs": [
    {
     "name": "stdout",
     "output_type": "stream",
     "text": [
      "Converted value: 3.28084 ft\n"
     ]
    }
   ],
   "source": [
    "def convert_length(value, from_unit, to_unit):\n",
    "    \"\"\"Convert length between meters and feet.\"\"\"\n",
    "    if from_unit == 'm' and to_unit == 'ft':\n",
    "        return value * 3.28084\n",
    "    elif from_unit == 'ft' and to_unit == 'm':\n",
    "        return value / 3.28084\n",
    "    else:\n",
    "        raise ValueError(\"Unsupported length conversion\")\n",
    "\n",
    "def convert_weight(value, from_unit, to_unit):\n",
    "    \"\"\"Convert weight between kilograms and pounds.\"\"\"\n",
    "    if from_unit == 'kg' and to_unit == 'lbs':\n",
    "        return value * 2.20462\n",
    "    elif from_unit == 'lbs' and to_unit == 'kg':\n",
    "        return value / 2.20462\n",
    "    else:\n",
    "        raise ValueError(\"Unsupported weight conversion\")\n",
    "\n",
    "def convert_volume(value, from_unit, to_unit):\n",
    "    \"\"\"Convert volume between liters and gallons.\"\"\"\n",
    "    if from_unit == 'L' and to_unit == 'gal':\n",
    "        return value * 0.264172\n",
    "    elif from_unit == 'gal' and to_unit == 'L':\n",
    "        return value / 0.264172\n",
    "    else:\n",
    "        raise ValueError(\"Unsupported volume conversion\")\n",
    "\n",
    "def unit_conversion():\n",
    "    \"\"\"Prompt user for conversion type and value, perform conversion, and display result.\"\"\"\n",
    "    try:\n",
    "        conversion_type = input(\"Choose conversion type (Length, Weight, Volume): \").strip().lower()\n",
    "        value = float(input(\"Enter the value to be converted: \"))\n",
    "        \n",
    "        if conversion_type == 'length':\n",
    "            from_unit = input(\"Enter the unit to convert from (m, ft): \").strip().lower()\n",
    "            to_unit = input(\"Enter the unit to convert to (m, ft): \").strip().lower()\n",
    "            result = convert_length(value, from_unit, to_unit)\n",
    "        elif conversion_type == 'weight':\n",
    "            from_unit = input(\"Enter the unit to convert from (kg, lbs): \").strip().lower()\n",
    "            to_unit = input(\"Enter the unit to convert to (kg, lbs): \").strip().lower()\n",
    "            result = convert_weight(value, from_unit, to_unit)\n",
    "        elif conversion_type == 'volume':\n",
    "            from_unit = input(\"Enter the unit to convert from (L, gal): \").strip().lower()\n",
    "            to_unit = input(\"Enter the unit to convert to (L, gal): \").strip().lower()\n",
    "            result = convert_volume(value, from_unit, to_unit)\n",
    "        else:\n",
    "            raise ValueError(\"Unsupported conversion type\")\n",
    "        \n",
    "        print(f\"Converted value: {result} {to_unit}\")\n",
    "    except ValueError as e:\n",
    "        print(f\"Error: {e}\")\n",
    "    except Exception as e:\n",
    "        print(f\"An error occurred: {e}\")\n",
    "\n",
    "# Run the unit conversion program\n",
    "unit_conversion()"
   ]
  },
  {
   "cell_type": "markdown",
   "metadata": {},
   "source": [
    "### Task 2: Mathematical Operations on a List\n",
    "Create a Python program that performs various mathematical operations on a list of numbers.\n",
    "\n",
    "**Requirements:**\n",
    "- Prompt the user to choose an operation: find the sum, average, maximum, or minimum of the numbers.\n",
    "- Ask the user to input a list of numbers (separated by spaces).\n",
    "- Perform the selected operation and display the result.\n",
    "- Define at least one function for each operation with a proper docstring.\n",
    "- Handle potential errors such as non-numeric values or empty lists.\n"
   ]
  },
  {
   "cell_type": "code",
   "execution_count": 2,
   "metadata": {},
   "outputs": [
    {
     "name": "stdout",
     "output_type": "stream",
     "text": [
      "Result: 60.0\n"
     ]
    }
   ],
   "source": [
    "def calculate_sum(numbers):\n",
    "    \"\"\"Calculate the sum of a list of numbers.\"\"\"\n",
    "    return sum(numbers)\n",
    "\n",
    "def calculate_average(numbers):\n",
    "    \"\"\"Calculate the average of a list of numbers.\"\"\"\n",
    "    return sum(numbers) / len(numbers)\n",
    "\n",
    "def find_maximum(numbers):\n",
    "    \"\"\"Find the maximum value in a list of numbers.\"\"\"\n",
    "    return max(numbers)\n",
    "\n",
    "def find_minimum(numbers):\n",
    "    \"\"\"Find the minimum value in a list of numbers.\"\"\"\n",
    "    return min(numbers)\n",
    "\n",
    "def mathematical_operations():\n",
    "    \"\"\"Prompt user for operation type and list of numbers, perform operation, and display result.\"\"\"\n",
    "    try:\n",
    "        operation = input(\"Choose an operation (sum, average, maximum, minimum): \").strip().lower()\n",
    "        numbers = list(map(float, input(\"Enter a list of numbers (separated by spaces): \").strip().split()))\n",
    "        \n",
    "        if not numbers:\n",
    "            raise ValueError(\"The list of numbers is empty\")\n",
    "        \n",
    "        if operation == 'sum':\n",
    "            result = calculate_sum(numbers)\n",
    "        elif operation == 'average':\n",
    "            result = calculate_average(numbers)\n",
    "        elif operation == 'maximum':\n",
    "            result = find_maximum(numbers)\n",
    "        elif operation == 'minimum':\n",
    "            result = find_minimum(numbers)\n",
    "        else:\n",
    "            raise ValueError(\"Unsupported operation type\")\n",
    "        \n",
    "        print(f\"Result: {result}\")\n",
    "    except ValueError as e:\n",
    "        print(f\"Error: {e}\")\n",
    "    except Exception as e:\n",
    "        print(f\"An error occurred: {e}\")\n",
    "\n",
    "# Run the mathematical operations program\n",
    "mathematical_operations()"
   ]
  },
  {
   "cell_type": "markdown",
   "metadata": {},
   "source": [
    "## 4.2 Exercise on List Manipulation\n",
    "\n",
    "Implement the following functions:\n"
   ]
  },
  {
   "cell_type": "markdown",
   "metadata": {},
   "source": [
    "1. **Extract Every Other Element**  \n",
    "   Define a function `extract_every_other(lst)` that returns a new list containing every other element from `lst`.  \n",
    "   *Example:* For `[1, 2, 3, 4, 5, 6]`, the output should be `[1, 3, 5]`."
   ]
  },
  {
   "cell_type": "code",
   "execution_count": 3,
   "metadata": {},
   "outputs": [
    {
     "name": "stdout",
     "output_type": "stream",
     "text": [
      "[1, 3, 5]\n"
     ]
    }
   ],
   "source": [
    "def extract_every_other(lst):\n",
    "    \"\"\"Return a new list containing every other element from the input list.\"\"\"\n",
    "    return lst[::2]\n",
    "\n",
    "# Example usage\n",
    "example_list = [1, 2, 3, 4, 5, 6]\n",
    "print(extract_every_other(example_list))  # Output: [1, 3, 5]"
   ]
  },
  {
   "cell_type": "markdown",
   "metadata": {},
   "source": [
    "2. **Slice a Sublist**  \n",
    "   Define a function `get_sublist(lst, start, end)` that returns the sublist from index `start` to `end` (inclusive).  \n",
    "   *Example:* For `[1, 2, 3, 4, 5, 6]` with `start=2` and `end=4`, the output should be `[3, 4, 5]`."
   ]
  },
  {
   "cell_type": "code",
   "execution_count": 4,
   "metadata": {},
   "outputs": [
    {
     "name": "stdout",
     "output_type": "stream",
     "text": [
      "[3, 4, 5]\n"
     ]
    }
   ],
   "source": [
    "def get_sublist(lst, start, end):\n",
    "    \"\"\"Return the sublist from index start to end (inclusive).\"\"\"\n",
    "    return lst[start:end+1]\n",
    "\n",
    "# Example usage\n",
    "start = 2\n",
    "end = 4\n",
    "print(get_sublist(example_list, start, end))  # Output: [3, 4, 5]"
   ]
  },
  {
   "cell_type": "markdown",
   "metadata": {},
   "source": [
    "3. **Reverse a List Using Slicing**  \n",
    "   Define a function `reverse_list(lst)` that returns the reversed list using slicing.  \n",
    "   *Example:* For `[1, 2, 3, 4, 5]`, the output should be `[5, 4, 3, 2, 1]`."
   ]
  },
  {
   "cell_type": "code",
   "execution_count": 6,
   "metadata": {},
   "outputs": [
    {
     "name": "stdout",
     "output_type": "stream",
     "text": [
      "[5, 4, 3, 2, 1]\n"
     ]
    }
   ],
   "source": [
    "def reverse_list(lst):\n",
    "    \"\"\"Return the reversed list using slicing.\"\"\"\n",
    "    return lst[::-1]\n",
    "\n",
    "# Example usage\n",
    "print(reverse_list([1, 2, 3, 4, 5]))  # Output: [5, 4, 3, 2, 1]"
   ]
  },
  {
   "cell_type": "markdown",
   "metadata": {},
   "source": [
    "4. **Remove the First and Last Elements**  \n",
    "   Define a function `remove_first_last(lst)` that returns a sublist without the first and last elements.  \n",
    "   *Example:* For `[1, 2, 3, 4, 5]`, the output should be `[2, 3, 4]`."
   ]
  },
  {
   "cell_type": "code",
   "execution_count": 1,
   "metadata": {},
   "outputs": [
    {
     "name": "stdout",
     "output_type": "stream",
     "text": [
      "[2, 3, 4]\n"
     ]
    }
   ],
   "source": [
    "def remove_first_last(lst):\n",
    "    \"\"\"Return a sublist without the first and last elements.\"\"\"\n",
    "    return lst[1:-1]\n",
    "\n",
    "# Example usage\n",
    "print(remove_first_last([1, 2, 3, 4, 5]))  # Output: [2, 3, 4]"
   ]
  },
  {
   "cell_type": "markdown",
   "metadata": {},
   "source": [
    "5. **Get the First n Elements**  \n",
    "   Define a function `get_first_n(lst, n)` that returns the first `n` elements of `lst`.  \n",
    "   *Example:* For `[1, 2, 3, 4, 5]` with `n=3`, the output should be `[1, 2, 3]`."
   ]
  },
  {
   "cell_type": "code",
   "execution_count": 2,
   "metadata": {},
   "outputs": [
    {
     "name": "stdout",
     "output_type": "stream",
     "text": [
      "[1, 2, 3]\n"
     ]
    }
   ],
   "source": [
    "def get_first_n(lst, n):\n",
    "    \"\"\"Return the first n elements of the input list.\"\"\"\n",
    "    return lst[:n]\n",
    "\n",
    "# Example usage\n",
    "print(get_first_n([1, 2, 3, 4, 5], 3))  # Output: [1, 2, 3]"
   ]
  },
  {
   "cell_type": "markdown",
   "metadata": {},
   "source": [
    "6. **Extract Elements from the End**  \n",
    "   Define a function `get_last_n(lst, n)` that returns the last `n` elements of `lst`.  \n",
    "   *Example:* For `[1, 2, 3, 4, 5]` with `n=2`, the output should be `[4, 5]`."
   ]
  },
  {
   "cell_type": "code",
   "execution_count": 3,
   "metadata": {},
   "outputs": [
    {
     "name": "stdout",
     "output_type": "stream",
     "text": [
      "[4, 5]\n"
     ]
    }
   ],
   "source": [
    "def get_last_n(lst, n):\n",
    "    \"\"\"Return the last n elements of the input list.\"\"\"\n",
    "    return lst[-n:]\n",
    "\n",
    "# Example usage\n",
    "print(get_last_n([1, 2, 3, 4, 5], 2))  # Output: [4, 5]"
   ]
  },
  {
   "cell_type": "markdown",
   "metadata": {},
   "source": [
    "7. **Extract Elements in Reverse Order (Skipping One)**  \n",
    "   Define a function `reverse_skip(lst)` that returns a new list containing every second element in reverse order starting from the second-to-last element.  \n",
    "   *Example:* For `[1, 2, 3, 4, 5, 6]`, the output should be `[5, 3, 1]`."
   ]
  },
  {
   "cell_type": "code",
   "execution_count": 4,
   "metadata": {},
   "outputs": [
    {
     "name": "stdout",
     "output_type": "stream",
     "text": [
      "[5, 3, 1]\n"
     ]
    }
   ],
   "source": [
    "def reverse_skip(lst):\n",
    "    \"\"\"Return a new list containing every second element in reverse order starting from the second-to-last element.\"\"\"\n",
    "    return lst[-2::-2]\n",
    "\n",
    "# Example usage\n",
    "print(reverse_skip([1, 2, 3, 4, 5, 6]))  # Output: [5, 3, 1]"
   ]
  },
  {
   "cell_type": "markdown",
   "metadata": {},
   "source": [
    "## 4.3 Exercise on Nested Lists\n",
    "\n",
    "Implement the following functions to work with nested lists:\n"
   ]
  },
  {
   "cell_type": "markdown",
   "metadata": {},
   "source": [
    "1. **Flatten a Nested List**  \n",
    "   Define a function `flatten(lst)` that takes a nested list and returns a single flattened list.  \n",
    "   *Example:* For `[[1, 2], [3, 4], [5]]`, the output should be `[1, 2, 3, 4, 5]`.\n"
   ]
  },
  {
   "cell_type": "code",
   "execution_count": 2,
   "metadata": {},
   "outputs": [
    {
     "name": "stdout",
     "output_type": "stream",
     "text": [
      "[1, 2, 3, 4, 5]\n"
     ]
    }
   ],
   "source": [
    "def flatten(lst):\n",
    "    \"\"\"Return a single flattened list from a nested list.\"\"\"\n",
    "    return [item for sublist in lst for item in sublist]\n",
    "\n",
    "# Example usage\n",
    "nested_list = [[1, 2], [3, 4], [5]]\n",
    "print(flatten(nested_list))  # Output: [1, 2, 3, 4, 5]"
   ]
  },
  {
   "cell_type": "markdown",
   "metadata": {},
   "source": [
    "2. **Accessing Nested List Elements**  \n",
    "   Define a function `access_nested_element(lst, indices)` that returns the element at the position specified by `indices`.  \n",
    "   *Example:* For `lst = [[1, 2, 3], [4, 5, 6], [7, 8, 9]]` with `indices = [1, 2]`, the output should be `6`."
   ]
  },
  {
   "cell_type": "code",
   "execution_count": 6,
   "metadata": {},
   "outputs": [
    {
     "name": "stdout",
     "output_type": "stream",
     "text": [
      "4\n"
     ]
    }
   ],
   "source": [
    "def access_nested_element(lst, indices):\n",
    "    \"\"\"Return the element at the position specified by indices in a nested list.\"\"\"\n",
    "    element = lst\n",
    "    for index in indices:\n",
    "        element = element[index]\n",
    "    return element\n",
    "\n",
    "# Example usage\n",
    "indices = [1, 1]\n",
    "print(access_nested_element(nested_list, indices))  # Output: 4"
   ]
  },
  {
   "cell_type": "markdown",
   "metadata": {},
   "source": [
    "3. **Sum of All Elements in a Nested List**  \n",
    "   Define a function `sum_nested(lst)` that returns the sum of all numbers in the nested list, regardless of its depth.  \n",
    "   *Example:* For `[[1, 2], [3, [4, 5]], 6]`, the output should be `21`.\n"
   ]
  },
  {
   "cell_type": "code",
   "execution_count": 1,
   "metadata": {},
   "outputs": [
    {
     "name": "stdout",
     "output_type": "stream",
     "text": [
      "21\n"
     ]
    }
   ],
   "source": [
    "def sum_nested(lst):\n",
    "    \"\"\"Return the sum of all numbers in the nested list, regardless of its depth.\"\"\"\n",
    "    total = 0\n",
    "    for element in lst:\n",
    "        if isinstance(element, list):\n",
    "            total += sum_nested(element)\n",
    "        else:\n",
    "            total += element\n",
    "    return total\n",
    "\n",
    "# Example usage\n",
    "nested_list = [[1, 2], [3, [4, 5]], 6]\n",
    "print(sum_nested(nested_list))  # Output: 21"
   ]
  },
  {
   "cell_type": "markdown",
   "metadata": {},
   "source": [
    "4. **Remove Specific Element from a Nested List**  \n",
    "   Define a function `remove_element(lst, elem)` that removes all occurrences of `elem` from the nested list and returns the modified list.  \n",
    "   *Example:* For `lst = [[1, 2], [3, 2], [4, 5]]` with `elem = 2`, the output should be `[[1], [3], [4, 5]]`."
   ]
  },
  {
   "cell_type": "code",
   "execution_count": 3,
   "metadata": {},
   "outputs": [
    {
     "name": "stdout",
     "output_type": "stream",
     "text": [
      "[[1], [3, [4, 5]], 6]\n"
     ]
    }
   ],
   "source": [
    "def remove_element(lst, elem):\n",
    "    \"\"\"Remove all occurrences of elem from the nested list and return the modified list.\"\"\"\n",
    "    result = []\n",
    "    for item in lst:\n",
    "        if isinstance(item, list):\n",
    "            result.append(remove_element(item, elem))\n",
    "        elif item != elem:\n",
    "            result.append(item)\n",
    "    return result\n",
    "\n",
    "# Example usage\n",
    "elem_to_remove = 2\n",
    "print(remove_element(nested_list, elem_to_remove))  # Output: [[1], [3], [4, 5]]"
   ]
  },
  {
   "cell_type": "markdown",
   "metadata": {},
   "source": [
    "5. **Find the Maximum Element in a Nested List**  \n",
    "   Define a function `find_max(lst)` that returns the maximum element in the nested list.  \n",
    "   *Example:* For `[[1, 2], [3, [4, 5]], 6]`, the output should be `6`."
   ]
  },
  {
   "cell_type": "code",
   "execution_count": 4,
   "metadata": {},
   "outputs": [
    {
     "name": "stdout",
     "output_type": "stream",
     "text": [
      "6\n"
     ]
    }
   ],
   "source": [
    "def find_max(lst):\n",
    "    \"\"\"Return the maximum element in the nested list.\"\"\"\n",
    "    max_elem = float('-inf')\n",
    "    for element in lst:\n",
    "        if isinstance(element, list):\n",
    "            max_elem = max(max_elem, find_max(element))\n",
    "        else:\n",
    "            max_elem = max(max_elem, element)\n",
    "    return max_elem\n",
    "\n",
    "# Example usage\n",
    "print(find_max(nested_list))  # Output: 6"
   ]
  },
  {
   "cell_type": "markdown",
   "metadata": {},
   "source": [
    "6. **Count Occurrences of an Element in a Nested List**  \n",
    "   Define a function `count_occurrences(lst, elem)` that counts how many times `elem` appears in the nested list.  \n",
    "   *Example:* For `lst = [[1, 2], [2, 3], [2, 4]]` with `elem = 2`, the output should be `3`."
   ]
  },
  {
   "cell_type": "code",
   "execution_count": 5,
   "metadata": {},
   "outputs": [
    {
     "name": "stdout",
     "output_type": "stream",
     "text": [
      "1\n"
     ]
    }
   ],
   "source": [
    "def count_occurrences(lst, elem):\n",
    "    \"\"\"Count how many times elem appears in the nested list.\"\"\"\n",
    "    count = 0\n",
    "    for item in lst:\n",
    "        if isinstance(item, list):\n",
    "            count += count_occurrences(item, elem)\n",
    "        elif item == elem:\n",
    "            count += 1\n",
    "    return count\n",
    "\n",
    "# Example usage\n",
    "print(count_occurrences(nested_list, elem_to_remove))  # Output will depend on the actual structure of nested_list"
   ]
  },
  {
   "cell_type": "markdown",
   "metadata": {},
   "source": [
    "7. **Deep Flatten a List**  \n",
    "   Define a function `deep_flatten(lst)` that flattens a list of lists of lists into a single list regardless of depth.  \n",
    "   *Example:* For `[[[1, 2], [3, 4]], [[5, 6], [7, 8]]]`, the output should be `[1, 2, 3, 4, 5, 6, 7, 8]`."
   ]
  },
  {
   "cell_type": "code",
   "execution_count": 6,
   "metadata": {},
   "outputs": [
    {
     "name": "stdout",
     "output_type": "stream",
     "text": [
      "[1, 2, 3, 4, 5, 6, 7, 8]\n"
     ]
    }
   ],
   "source": [
    "def deep_flatten(lst):\n",
    "    \"\"\"Flatten a list of lists of lists into a single list regardless of depth.\"\"\"\n",
    "    flat_list = []\n",
    "    for item in lst:\n",
    "        if isinstance(item, list):\n",
    "            flat_list.extend(deep_flatten(item))\n",
    "        else:\n",
    "            flat_list.append(item)\n",
    "    return flat_list\n",
    "\n",
    "# Example usage\n",
    "nested_list_example = [[[1, 2], [3, 4]], [[5, 6], [7, 8]]]\n",
    "print(deep_flatten(nested_list_example))  # Output: [1, 2, 3, 4, 5, 6, 7, 8]"
   ]
  },
  {
   "cell_type": "markdown",
   "metadata": {},
   "source": [
    "8. **Nested List Average**  \n",
    "   Define a function `average_nested(lst)` that returns the average of all elements in the nested list.  \n",
    "   *Example:* For `[[1, 2], [3, 4], [5, 6]]`, the output should be `3.5`."
   ]
  },
  {
   "cell_type": "code",
   "execution_count": 7,
   "metadata": {},
   "outputs": [
    {
     "name": "stdout",
     "output_type": "stream",
     "text": [
      "3.5\n"
     ]
    }
   ],
   "source": [
    "def average_nested(lst):\n",
    "    \"\"\"Return the average of all elements in the nested list.\"\"\"\n",
    "    def flatten(lst):\n",
    "        \"\"\"Helper function to flatten the nested list.\"\"\"\n",
    "        flat_list = []\n",
    "        for item in lst:\n",
    "            if isinstance(item, list):\n",
    "                flat_list.extend(flatten(item))\n",
    "            else:\n",
    "                flat_list.append(item)\n",
    "        return flat_list\n",
    "    \n",
    "    flat_list = flatten(lst)\n",
    "    return sum(flat_list) / len(flat_list)\n",
    "\n",
    "# Example usage\n",
    "nested_list_example = [[1, 2], [3, 4], [5, 6]]\n",
    "print(average_nested(nested_list_example))  # Output: 3.5"
   ]
  },
  {
   "cell_type": "markdown",
   "metadata": {},
   "source": [
    "# 10 To - Do - NumPy\n",
    "Please complete all the problems listed below:"
   ]
  },
  {
   "cell_type": "markdown",
   "metadata": {},
   "source": [
    "## 10.1 Basic Vector and Matrix Operation with Numpy.\n",
    "### Problem - 1: Array Creation:\n",
    "Complete the following Tasks:\n",
    "1. Initialize an empty array with size 2X2.\n",
    "2. Initialize an all one array with size 4X2.\n",
    "3. Return a new array of given shape and type, filled with fill value.{Hint: np.full}\n",
    "4. Return a new array of zeros with same shape and type as a given array.{Hint: np.zeros like}\n",
    "5. Return a new array of ones with same shape and type as a given array.{Hint: np.ones like}\n",
    "6. For an existing list new_list = [1,2,3,4] convert to an numpy array.{Hint: np.array()}"
   ]
  },
  {
   "cell_type": "code",
   "execution_count": 11,
   "metadata": {},
   "outputs": [
    {
     "name": "stdout",
     "output_type": "stream",
     "text": [
      "Empty array (2x2):\n",
      " [[1.33859652e-313 0.00000000e+000]\n",
      " [6.88056762e-310 5.48289134e-310]]\n",
      "All ones array (4x2):\n",
      " [[1. 1.]\n",
      " [1. 1.]\n",
      " [1. 1.]\n",
      " [1. 1.]]\n",
      "Array filled with value 7 (3x3):\n",
      " [[7 7 7]\n",
      " [7 7 7]\n",
      " [7 7 7]]\n",
      "Zeros like given array:\n",
      " [[0 0 0]\n",
      " [0 0 0]]\n",
      "Ones like given array:\n",
      " [[1 1 1]\n",
      " [1 1 1]]\n",
      "Numpy array from list:\n",
      " [1 2 3 4]\n"
     ]
    }
   ],
   "source": [
    "import numpy as np\n",
    "\n",
    "# 1. Initialize an empty array with size 2X2\n",
    "empty_array = np.empty((2, 2))\n",
    "print(\"Empty array (2x2):\\n\", empty_array)\n",
    "\n",
    "# 2. Initialize an all one array with size 4X2\n",
    "ones_array = np.ones((4, 2))\n",
    "print(\"All ones array (4x2):\\n\", ones_array)\n",
    "\n",
    "# 3. Return a new array of given shape and type, filled with fill value\n",
    "fill_value = 7\n",
    "filled_array = np.full((3, 3), fill_value)\n",
    "print(\"Array filled with value 7 (3x3):\\n\", filled_array)\n",
    "\n",
    "# 4. Return a new array of zeros with same shape and type as a given array\n",
    "given_array = np.array([[1, 2, 3], [4, 5, 6]])\n",
    "zeros_like_array = np.zeros_like(given_array)\n",
    "print(\"Zeros like given array:\\n\", zeros_like_array)\n",
    "\n",
    "# 5. Return a new array of ones with same shape and type as a given array\n",
    "ones_like_array = np.ones_like(given_array)\n",
    "print(\"Ones like given array:\\n\", ones_like_array)\n",
    "\n",
    "# 6. For an existing list new_list = [1, 2, 3, 4] convert to a numpy array\n",
    "new_list = [1, 2, 3, 4]\n",
    "numpy_array = np.array(new_list)\n",
    "print(\"Numpy array from list:\\n\", numpy_array)"
   ]
  },
  {
   "cell_type": "markdown",
   "metadata": {},
   "source": [
    "### Problem - 2: Array Manipulation: Numerical Ranges and Array indexing:\n",
    "Complete the following tasks:\n",
    "1. Create an array with values ranging from 10 to 49. {Hint:np.arrange()}.\n",
    "2. Create a 3X3 matrix with values ranging from 0 to 8. {Hint:look for np.reshape()}\n",
    "3. Create a 3X3 identity matrix.{Hint:np.eye()}\n",
    "4. Create a random array of size 30 and find the mean of the array. {Hint:check for np.random.random() and array.mean() function}\n",
    "5. Create a 10X10 array with random values and find the minimum and maximum values.\n",
    "6. Create a zero array of size 10 and replace 5th element with 1.\n",
    "7. Reverse an array arr = [1,2,0,0,4,0].\n",
    "8. Create a 2d array with 1 on border and 0 inside.\n",
    "9. Create a 8X8 matrix and fill it with a checkerboard pattern."
   ]
  },
  {
   "cell_type": "code",
   "execution_count": 12,
   "metadata": {},
   "outputs": [
    {
     "name": "stdout",
     "output_type": "stream",
     "text": [
      "Array with values ranging from 10 to 49:\n",
      " [10 11 12 13 14 15 16 17 18 19 20 21 22 23 24 25 26 27 28 29 30 31 32 33\n",
      " 34 35 36 37 38 39 40 41 42 43 44 45 46 47 48 49]\n",
      "3x3 matrix with values ranging from 0 to 8:\n",
      " [[0 1 2]\n",
      " [3 4 5]\n",
      " [6 7 8]]\n",
      "3x3 identity matrix:\n",
      " [[1. 0. 0.]\n",
      " [0. 1. 0.]\n",
      " [0. 0. 1.]]\n",
      "Random array of size 30:\n",
      " [0.27977983 0.30948964 0.13568135 0.76221876 0.55533159 0.27642914\n",
      " 0.16312746 0.163742   0.48794209 0.63255422 0.96548442 0.32708062\n",
      " 0.2080198  0.13387099 0.00867756 0.46711549 0.92537596 0.12972994\n",
      " 0.26103058 0.77949128 0.93809577 0.90370736 0.11484834 0.3946289\n",
      " 0.92758238 0.58202057 0.43189988 0.45814964 0.93600864 0.88753948]\n",
      "Mean of the random array: 0.4848884569037732\n",
      "10x10 array with random values:\n",
      " [[0.74284213 0.57215562 0.92234313 0.53883397 0.99271722 0.37996501\n",
      "  0.85688648 0.03355287 0.1720444  0.43977647]\n",
      " [0.592299   0.1791038  0.24472769 0.86166027 0.57554609 0.22416028\n",
      "  0.44935164 0.1511157  0.65834083 0.62288374]\n",
      " [0.51010996 0.93137449 0.15664551 0.35715736 0.75277401 0.98292786\n",
      "  0.99976543 0.73394176 0.24817661 0.79667291]\n",
      " [0.48804443 0.40113195 0.1514562  0.9050744  0.2802917  0.96771454\n",
      "  0.32495642 0.16487775 0.57998526 0.71316192]\n",
      " [0.13209057 0.21593349 0.77520104 0.25147058 0.82033685 0.14973754\n",
      "  0.68666291 0.50148706 0.07346803 0.07166471]\n",
      " [0.00372212 0.71212938 0.26954214 0.92160474 0.9921761  0.57042342\n",
      "  0.21607665 0.51765562 0.32838663 0.78961388]\n",
      " [0.37373634 0.39421224 0.33093399 0.60240051 0.66134359 0.22916649\n",
      "  0.0385943  0.2223253  0.69733452 0.50241221]\n",
      " [0.41726659 0.16643763 0.79057712 0.5671466  0.08592838 0.5783476\n",
      "  0.42352654 0.70121194 0.65832305 0.1577117 ]\n",
      " [0.47614578 0.07350169 0.66087127 0.16168516 0.90545787 0.31093551\n",
      "  0.34617931 0.91969116 0.34271009 0.60943895]\n",
      " [0.13114895 0.75217721 0.60759462 0.65849572 0.2259239  0.08901059\n",
      "  0.1009853  0.25155866 0.37678072 0.84943276]]\n",
      "Minimum value: 0.003722116981158874\n",
      "Maximum value: 0.999765427919296\n",
      "Zero array with 5th element replaced by 1:\n",
      " [0. 0. 0. 0. 1. 0. 0. 0. 0. 0.]\n",
      "Reversed array:\n",
      " [0, 4, 0, 0, 2, 1]\n",
      "2D array with 1 on border and 0 inside:\n",
      " [[1. 1. 1. 1. 1.]\n",
      " [1. 0. 0. 0. 1.]\n",
      " [1. 0. 0. 0. 1.]\n",
      " [1. 0. 0. 0. 1.]\n",
      " [1. 1. 1. 1. 1.]]\n",
      "8x8 checkerboard pattern:\n",
      " [[0 1 0 1 0 1 0 1]\n",
      " [1 0 1 0 1 0 1 0]\n",
      " [0 1 0 1 0 1 0 1]\n",
      " [1 0 1 0 1 0 1 0]\n",
      " [0 1 0 1 0 1 0 1]\n",
      " [1 0 1 0 1 0 1 0]\n",
      " [0 1 0 1 0 1 0 1]\n",
      " [1 0 1 0 1 0 1 0]]\n"
     ]
    }
   ],
   "source": [
    "# 1. Create an array with values ranging from 10 to 49\n",
    "array_10_to_49 = np.arange(10, 50)\n",
    "print(\"Array with values ranging from 10 to 49:\\n\", array_10_to_49)\n",
    "\n",
    "# 2. Create a 3X3 matrix with values ranging from 0 to 8\n",
    "matrix_0_to_8 = np.arange(9).reshape(3, 3)\n",
    "print(\"3x3 matrix with values ranging from 0 to 8:\\n\", matrix_0_to_8)\n",
    "\n",
    "# 3. Create a 3X3 identity matrix\n",
    "identity_matrix = np.eye(3)\n",
    "print(\"3x3 identity matrix:\\n\", identity_matrix)\n",
    "\n",
    "# 4. Create a random array of size 30 and find the mean of the array\n",
    "random_array = np.random.random(30)\n",
    "mean_random_array = random_array.mean()\n",
    "print(\"Random array of size 30:\\n\", random_array)\n",
    "print(\"Mean of the random array:\", mean_random_array)\n",
    "\n",
    "# 5. Create a 10X10 array with random values and find the minimum and maximum values\n",
    "random_10x10_array = np.random.random((10, 10))\n",
    "min_value = random_10x10_array.min()\n",
    "max_value = random_10x10_array.max()\n",
    "print(\"10x10 array with random values:\\n\", random_10x10_array)\n",
    "print(\"Minimum value:\", min_value)\n",
    "print(\"Maximum value:\", max_value)\n",
    "\n",
    "# 6. Create a zero array of size 10 and replace 5th element with 1\n",
    "zero_array = np.zeros(10)\n",
    "zero_array[4] = 1\n",
    "print(\"Zero array with 5th element replaced by 1:\\n\", zero_array)\n",
    "\n",
    "# 7. Reverse an array arr = [1,2,0,0,4,0]\n",
    "arr = [1, 2, 0, 0, 4, 0]\n",
    "reversed_arr = arr[::-1]\n",
    "print(\"Reversed array:\\n\", reversed_arr)\n",
    "\n",
    "# 8. Create a 2d array with 1 on border and 0 inside\n",
    "border_array = np.ones((5, 5))\n",
    "border_array[1:-1, 1:-1] = 0\n",
    "print(\"2D array with 1 on border and 0 inside:\\n\", border_array)\n",
    "\n",
    "# 9. Create a 8X8 matrix and fill it with a checkerboard pattern\n",
    "checkerboard_matrix = np.zeros((8, 8), dtype=int)\n",
    "checkerboard_matrix[1::2, ::2] = 1\n",
    "checkerboard_matrix[::2, 1::2] = 1\n",
    "print(\"8x8 checkerboard pattern:\\n\", checkerboard_matrix)"
   ]
  },
  {
   "cell_type": "markdown",
   "metadata": {},
   "source": [
    "### Problem - 3: Array Operations:\n",
    "For the following arrays:\n",
    "x = np.array([[1,2],[3,5]]) and y = np.array([[5,6],[7,8]]);\n",
    "v = np.array([9,10]) and w = np.array([11,12]);\n",
    "Complete all the task using numpy:\n",
    "1. Add the two array.\n",
    "2. Subtract the two array.\n",
    "3. Multiply the array with any integers of your choice.\n",
    "4. Find the square of each element of the array.\n",
    "5. Find the dot product between: v(and)w ; x(and)v ; x(and)y.\n",
    "6. Concatenate x(and)y along row and Concatenate v(and)w along column.{Hint:try np.concatenate() or np.vstack() functions.}\n",
    "7. Concatenate x(and)v; if you get an error, observe and explain why did you get the error?"
   ]
  },
  {
   "cell_type": "code",
   "execution_count": 13,
   "metadata": {},
   "outputs": [
    {
     "name": "stdout",
     "output_type": "stream",
     "text": [
      "Addition of x and y:\n",
      " [[ 6  8]\n",
      " [10 13]]\n",
      "Subtraction of x and y:\n",
      " [[-4 -4]\n",
      " [-4 -3]]\n",
      "Multiplication of x with 3:\n",
      " [[ 3  6]\n",
      " [ 9 15]]\n",
      "Square of each element in x:\n",
      " [[ 1  4]\n",
      " [ 9 25]]\n",
      "Dot product of v and w: 219\n",
      "Dot product of x and v:\n",
      " [29 77]\n",
      "Dot product of x and y:\n",
      " [[19 22]\n",
      " [50 58]]\n",
      "Concatenation of x and y along rows:\n",
      " [[1 2]\n",
      " [3 5]\n",
      " [5 6]\n",
      " [7 8]]\n",
      "Concatenation of v and w along columns:\n",
      " [[ 9 10]\n",
      " [11 12]]\n",
      "Error: all the input arrays must have same number of dimensions, but the array at index 0 has 2 dimension(s) and the array at index 1 has 1 dimension(s)\n",
      "Explanation: The arrays x and v cannot be concatenated along rows because they have different dimensions.\n"
     ]
    }
   ],
   "source": [
    "# Define the arrays\n",
    "x = np.array([[1, 2], [3, 5]])\n",
    "y = np.array([[5, 6], [7, 8]])\n",
    "v = np.array([9, 10])\n",
    "w = np.array([11, 12])\n",
    "\n",
    "# 1. Add the two arrays\n",
    "add_xy = x + y\n",
    "print(\"Addition of x and y:\\n\", add_xy)\n",
    "\n",
    "# 2. Subtract the two arrays\n",
    "subtract_xy = x - y\n",
    "print(\"Subtraction of x and y:\\n\", subtract_xy)\n",
    "\n",
    "# 3. Multiply the array with any integers of your choice\n",
    "multiply_x = x * 3\n",
    "print(\"Multiplication of x with 3:\\n\", multiply_x)\n",
    "\n",
    "# 4. Find the square of each element of the array\n",
    "square_x = x ** 2\n",
    "print(\"Square of each element in x:\\n\", square_x)\n",
    "\n",
    "# 5. Find the dot product between: v and w; x and v; x and y\n",
    "dot_vw = np.dot(v, w)\n",
    "dot_xv = np.dot(x, v)\n",
    "dot_xy = np.dot(x, y)\n",
    "print(\"Dot product of v and w:\", dot_vw)\n",
    "print(\"Dot product of x and v:\\n\", dot_xv)\n",
    "print(\"Dot product of x and y:\\n\", dot_xy)\n",
    "\n",
    "# 6. Concatenate x and y along row and Concatenate v and w along column\n",
    "concat_xy_row = np.concatenate((x, y), axis=0)\n",
    "concat_vw_col = np.vstack((v, w))\n",
    "print(\"Concatenation of x and y along rows:\\n\", concat_xy_row)\n",
    "print(\"Concatenation of v and w along columns:\\n\", concat_vw_col)\n",
    "\n",
    "# 7. Concatenate x and v; if you get an error, observe and explain why did you get the error?\n",
    "try:\n",
    "    concat_xv = np.concatenate((x, v), axis=0)\n",
    "    print(\"Concatenation of x and v along rows:\\n\", concat_xv)\n",
    "except ValueError as e:\n",
    "    print(\"Error:\", e)\n",
    "    print(\"Explanation: The arrays x and v cannot be concatenated along rows because they have different dimensions.\")"
   ]
  },
  {
   "cell_type": "markdown",
   "metadata": {},
   "source": [
    "### Problem - 4: Matrix Operations:\n",
    "- For the following arrays:\n",
    "A = np.array([[3,4],[7,8]]) and B = np.array([[5,3],[2,1]]);\n",
    "Prove following with Numpy:\n",
    "1. Prove A.A−1 = I.\n",
    "2. Prove AB ̸= BA.\n",
    "3. Prove (AB)\n",
    "T = BTAT\n",
    "\n",
    "- Solve the following system of Linear equation using Inverse Methods.\n",
    "2x − 3y + z = −1\n",
    "x − y + 2z = −3\n",
    "3x + y − z = 9\n",
    "{Hint: First use Numpy array to represent the equation in Matrix form. Then Solve for: AX = B}\n",
    "\n",
    "- Now: solve the above equation using np.linalg.inv function.{Explore more about ”linalg” function of Numpy}"
   ]
  },
  {
   "cell_type": "code",
   "execution_count": 14,
   "metadata": {},
   "outputs": [
    {
     "name": "stdout",
     "output_type": "stream",
     "text": [
      "A * A^-1:\n",
      " [[1.0000000e+00 4.4408921e-16]\n",
      " [0.0000000e+00 1.0000000e+00]]\n",
      "AB:\n",
      " [[23 13]\n",
      " [51 29]]\n",
      "BA:\n",
      " [[36 44]\n",
      " [13 16]]\n",
      "AB == BA: False\n",
      "(AB)^T:\n",
      " [[23 51]\n",
      " [13 29]]\n",
      "B^T A^T:\n",
      " [[23 51]\n",
      " [13 29]]\n",
      "(AB)^T == B^T A^T: True\n",
      "Solution using inverse method:\n",
      " [ 2.  1. -2.]\n",
      "Solution using np.linalg.solve:\n",
      " [ 2.  1. -2.]\n"
     ]
    }
   ],
   "source": [
    "import numpy as np\n",
    "\n",
    "# Define the arrays A and B\n",
    "A = np.array([[3, 4], [7, 8]])\n",
    "B = np.array([[5, 3], [2, 1]])\n",
    "\n",
    "# 1. Prove A.A−1 = I\n",
    "A_inv = np.linalg.inv(A)\n",
    "identity_matrix = np.dot(A, A_inv)\n",
    "print(\"A * A^-1:\\n\", identity_matrix)\n",
    "\n",
    "# 2. Prove AB ≠ BA\n",
    "AB = np.dot(A, B)\n",
    "BA = np.dot(B, A)\n",
    "print(\"AB:\\n\", AB)\n",
    "print(\"BA:\\n\", BA)\n",
    "print(\"AB == BA:\", np.array_equal(AB, BA))\n",
    "\n",
    "# 3. Prove (AB)^T = B^T A^T\n",
    "AB_T = np.transpose(AB)\n",
    "B_T = np.transpose(B)\n",
    "A_T = np.transpose(A)\n",
    "BT_AT = np.dot(B_T, A_T)\n",
    "print(\"(AB)^T:\\n\", AB_T)\n",
    "print(\"B^T A^T:\\n\", BT_AT)\n",
    "print(\"(AB)^T == B^T A^T:\", np.array_equal(AB_T, BT_AT))\n",
    "\n",
    "# Solve the system of linear equations using Inverse Methods\n",
    "# 2x − 3y + z = −1\n",
    "# x − y + 2z = −3\n",
    "# 3x + y − z = 9\n",
    "\n",
    "# Represent the equations in matrix form AX = B\n",
    "A_eq = np.array([[2, -3, 1], [1, -1, 2], [3, 1, -1]])\n",
    "B_eq = np.array([-1, -3, 9])\n",
    "\n",
    "# Solve for X using np.linalg.inv\n",
    "A_inv_eq = np.linalg.inv(A_eq)\n",
    "X = np.dot(A_inv_eq, B_eq)\n",
    "print(\"Solution using inverse method:\\n\", X)\n",
    "\n",
    "# Solve the system using np.linalg.solve\n",
    "X_solve = np.linalg.solve(A_eq, B_eq)\n",
    "print(\"Solution using np.linalg.solve:\\n\", X_solve)"
   ]
  },
  {
   "cell_type": "markdown",
   "metadata": {},
   "source": [
    "## 10.2 Experiment: How Fast is Numpy?\n",
    "In this exercise, you will compare the performance and implementation of operations using plain Python lists (arrays) and NumPy arrays. Follow the instructions:"
   ]
  },
  {
   "cell_type": "markdown",
   "metadata": {},
   "source": [
    "**1. Element-wise Addition:**\n",
    "- Using **Python Lists**, perform element-wise addition of two lists of size 1, 000, 000. Measure\n",
    "and Print the time taken for this operation.\n",
    "- Using **Numpy Arrays**, Repeat the calculation and measure and print the time taken for\n",
    "this operation."
   ]
  },
  {
   "cell_type": "code",
   "execution_count": 17,
   "metadata": {},
   "outputs": [
    {
     "name": "stdout",
     "output_type": "stream",
     "text": [
      "Time taken for element-wise addition using Python lists: 0.1181941032409668\n",
      "Time taken for element-wise addition using NumPy arrays: 0.0030350685119628906\n"
     ]
    }
   ],
   "source": [
    "import time\n",
    "\n",
    "# Create two lists of size 1,000,000\n",
    "list1 = list(range(1000000))\n",
    "list2 = list(range(1000000))\n",
    "\n",
    "# Measure time for element-wise addition using Python lists\n",
    "start_time = time.time()\n",
    "list_sum = [a + b for a, b in zip(list1, list2)]\n",
    "end_time = time.time()\n",
    "print(\"Time taken for element-wise addition using Python lists:\", end_time - start_time)\n",
    "\n",
    "# Create two NumPy arrays of size 1,000,000\n",
    "array1 = np.arange(1000000)\n",
    "array2 = np.arange(1000000)\n",
    "\n",
    "# Measure time for element-wise addition using NumPy arrays\n",
    "start_time = time.time()\n",
    "array_sum = array1 + array2\n",
    "end_time = time.time()\n",
    "print(\"Time taken for element-wise addition using NumPy arrays:\", end_time - start_time)"
   ]
  },
  {
   "cell_type": "markdown",
   "metadata": {},
   "source": [
    "**2. Element-wise Multiplication**\n",
    "- Using **Python Lists**, perform element-wise multiplication of two lists of size 1, 000, 000.\n",
    "Measure and Print the time taken for this operation.\n",
    "- Using **Numpy Arrays**, Repeat the calculation and measure and print the time taken for\n",
    "this operation."
   ]
  },
  {
   "cell_type": "code",
   "execution_count": 18,
   "metadata": {},
   "outputs": [
    {
     "name": "stdout",
     "output_type": "stream",
     "text": [
      "Time taken for element-wise multiplication using Python lists: 0.09625101089477539\n",
      "Time taken for element-wise multiplication using NumPy arrays: 0.0014586448669433594\n"
     ]
    }
   ],
   "source": [
    "# Create two lists of size 1,000,000\n",
    "list1 = list(range(1000000))\n",
    "list2 = list(range(1000000))\n",
    "\n",
    "# Measure time for element-wise multiplication using Python lists\n",
    "start_time = time.time()\n",
    "list_product = [a * b for a, b in zip(list1, list2)]\n",
    "end_time = time.time()\n",
    "print(\"Time taken for element-wise multiplication using Python lists:\", end_time - start_time)\n",
    "\n",
    "# Create two NumPy arrays of size 1,000,000\n",
    "array1 = np.arange(1000000)\n",
    "array2 = np.arange(1000000)\n",
    "\n",
    "# Measure time for element-wise multiplication using NumPy arrays\n",
    "start_time = time.time()\n",
    "array_product = array1 * array2\n",
    "end_time = time.time()\n",
    "print(\"Time taken for element-wise multiplication using NumPy arrays:\", end_time - start_time)"
   ]
  },
  {
   "cell_type": "markdown",
   "metadata": {},
   "source": [
    "**3. Dot Product**\n",
    "- Using **Python Lists**, compute the dot product of two lists of size 1, 000, 000. Measure and\n",
    "Print the time taken for this operation.\n",
    "- Using **Numpy Arrays**, Repeat the calculation and measure and print the time taken for\n",
    "this operation."
   ]
  },
  {
   "cell_type": "code",
   "execution_count": 20,
   "metadata": {},
   "outputs": [
    {
     "name": "stdout",
     "output_type": "stream",
     "text": [
      "Dot product using Python lists: 333332833333500000\n",
      "Time taken for dot product using Python lists: 0.10161566734313965\n",
      "Dot product using NumPy arrays: 333332833333500000\n",
      "Time taken for dot product using NumPy arrays: 0.0017070770263671875\n"
     ]
    }
   ],
   "source": [
    "# Create two lists of size 1,000,000\n",
    "list1 = list(range(1000000))\n",
    "list2 = list(range(1000000))\n",
    "\n",
    "# Measure time for dot product using Python lists\n",
    "start_time = time.time()\n",
    "dot_product_list = sum(a * b for a, b in zip(list1, list2))\n",
    "end_time = time.time()\n",
    "print(\"Dot product using Python lists:\", dot_product_list)\n",
    "print(\"Time taken for dot product using Python lists:\", end_time - start_time)\n",
    "\n",
    "# Create two NumPy arrays of size 1,000,000\n",
    "array1 = np.arange(1000000)\n",
    "array2 = np.arange(1000000)\n",
    "\n",
    "# Measure time for dot product using NumPy arrays\n",
    "start_time = time.time()\n",
    "dot_product_array = np.dot(array1, array2)\n",
    "end_time = time.time()\n",
    "print(\"Dot product using NumPy arrays:\", dot_product_array)\n",
    "print(\"Time taken for dot product using NumPy arrays:\", end_time - start_time)"
   ]
  },
  {
   "cell_type": "markdown",
   "metadata": {},
   "source": [
    "**4. Matrix Multiplication**\n",
    "- Using **Python lists**, perform matrix multiplication of two matrices of size 1000x1000. Measure and print the time taken for this operation.\n",
    "- Using **NumPy arrays**, perform matrix multiplication of two matrices of size 1000x1000.\n",
    "Measure and print the time taken for this operation."
   ]
  },
  {
   "cell_type": "code",
   "execution_count": 21,
   "metadata": {},
   "outputs": [
    {
     "name": "stdout",
     "output_type": "stream",
     "text": [
      "Time taken for matrix multiplication using Python lists: 102.25621938705444\n",
      "Time taken for matrix multiplication using NumPy arrays: 1.5844590663909912\n"
     ]
    }
   ],
   "source": [
    "# Create two 1000x1000 matrices using Python lists\n",
    "matrix1_list = [[i + j for j in range(1000)] for i in range(1000)]\n",
    "matrix2_list = [[i - j for j in range(1000)] for i in range(1000)]\n",
    "\n",
    "# Measure time for matrix multiplication using Python lists\n",
    "start_time = time.time()\n",
    "result_list = [[sum(a * b for a, b in zip(matrix1_row, matrix2_col)) for matrix2_col in zip(*matrix2_list)] for matrix1_row in matrix1_list]\n",
    "end_time = time.time()\n",
    "print(\"Time taken for matrix multiplication using Python lists:\", end_time - start_time)\n",
    "\n",
    "# Create two 1000x1000 matrices using NumPy arrays\n",
    "matrix1_np = np.array(matrix1_list)\n",
    "matrix2_np = np.array(matrix2_list)\n",
    "\n",
    "# Measure time for matrix multiplication using NumPy arrays\n",
    "start_time = time.time()\n",
    "result_np = np.dot(matrix1_np, matrix2_np)\n",
    "end_time = time.time()\n",
    "print(\"Time taken for matrix multiplication using NumPy arrays:\", end_time - start_time)"
   ]
  }
 ],
 "metadata": {
  "kernelspec": {
   "display_name": "Python 3",
   "language": "python",
   "name": "python3"
  },
  "language_info": {
   "codemirror_mode": {
    "name": "ipython",
    "version": 3
   },
   "file_extension": ".py",
   "mimetype": "text/x-python",
   "name": "python",
   "nbconvert_exporter": "python",
   "pygments_lexer": "ipython3",
   "version": "3.13.2"
  }
 },
 "nbformat": 4,
 "nbformat_minor": 2
}
