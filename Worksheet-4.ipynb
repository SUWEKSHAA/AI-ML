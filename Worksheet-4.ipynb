{
 "cells": [
  {
   "cell_type": "markdown",
   "metadata": {},
   "source": [
    "# Task 1: Data Preparation\n",
    "\n",
    "- **Download and Load Dataset:**\n",
    "  - Download the provided Devnagari digits dataset folder.\n",
    "  - Use the Python Imaging Library (PIL) to load and read the image files.\n",
    "\n",
    "- **Preprocess Images:**\n",
    "  - Convert images to NumPy arrays.\n",
    "  - Resize images to a consistent shape (e.g., 28x28).\n",
    "  - Normalize pixel values to the range 0–1.\n",
    "\n",
    "- **Extract Labels:**\n",
    "  - Extract the corresponding labels for each image from the folder names.\n",
    "  - Convert labels to one-hot encoded format for multi-class classification.\n",
    "\n",
    "*Hints:*\n",
    "- Ensure images are resized to the same dimensions.\n",
    "- Use the 'train' folder for training data and 'test' folder for testing data."
   ]
  },
  {
   "cell_type": "code",
   "execution_count": 1,
   "metadata": {},
   "outputs": [],
   "source": [
    "import zipfile\n",
    "\n",
    "zip_file_path = './Copy of devnagari digit.zip'\n",
    "extract_to_path = './devnagari_digit'\n",
    "\n",
    "# Extract the zip file\n",
    "with zipfile.ZipFile(zip_file_path, 'r') as zip_ref:\n",
    "    zip_ref.extractall(extract_to_path)"
   ]
  },
  {
   "cell_type": "code",
   "execution_count": 2,
   "metadata": {},
   "outputs": [
    {
     "name": "stderr",
     "output_type": "stream",
     "text": [
      "2025-03-24 09:28:01.952888: I tensorflow/core/util/port.cc:153] oneDNN custom operations are on. You may see slightly different numerical results due to floating-point round-off errors from different computation orders. To turn them off, set the environment variable `TF_ENABLE_ONEDNN_OPTS=0`.\n",
      "2025-03-24 09:28:02.161382: I tensorflow/core/platform/cpu_feature_guard.cc:210] This TensorFlow binary is optimized to use available CPU instructions in performance-critical operations.\n",
      "To enable the following instructions: SSE3 SSE4.1 SSE4.2 AVX AVX2 AVX512F AVX512_VNNI FMA, in other operations, rebuild TensorFlow with the appropriate compiler flags.\n"
     ]
    },
    {
     "name": "stdout",
     "output_type": "stream",
     "text": [
      "Training set: (17000, 28, 28, 1), Labels: (17000, 10)\n",
      "Testing set: (3000, 28, 28, 1), Labels: (3000, 10)\n"
     ]
    },
    {
     "data": {
      "image/png": "[encoded data removed]",
      "text/plain": [
       "<Figure size 1000x400 with 10 Axes>"
      ]
     },
     "metadata": {},
     "output_type": "display_data"
    }
   ],
   "source": [
    "import os\n",
    "import numpy as np\n",
    "import tensorflow as tf\n",
    "from tensorflow.keras.utils import to_categorical\n",
    "from sklearn.model_selection import train_test_split\n",
    "\n",
    "import matplotlib.pyplot as plt\n",
    "from PIL import Image  # Import Pillow\n",
    "\n",
    "# Define dataset paths\n",
    "train_dir = \"./devnagari_digit/DevanagariHandwrittenDigitDataset/Train\"\n",
    "test_dir = \"./devnagari_digit/DevanagariHandwrittenDigitDataset/Test\"\n",
    "\n",
    "# Define image size\n",
    "img_height, img_width = 28, 28\n",
    "\n",
    "# Function to load images and labels using PIL\n",
    "def load_images_from_folder(folder):\n",
    "    images = []\n",
    "    labels = []\n",
    "    class_names = sorted(os.listdir(folder))  # Sorted class names (digit_0, digit_1, ...)\n",
    "    class_map = {name: i for i, name in enumerate(class_names)}  # Map class names to labels\n",
    "    for class_name in class_names:\n",
    "        class_path = os.path.join(folder, class_name)\n",
    "        label = class_map[class_name]\n",
    "        for filename in os.listdir(class_path):\n",
    "            img_path = os.path.join(class_path, filename)\n",
    "            # Load image using PIL\n",
    "            img = Image.open(img_path).convert(\"L\")  # Convert to grayscale\n",
    "            img = img.resize((img_width, img_height))  # Resize to (28,28)\n",
    "            img = np.array(img) / 255.0  # Normalize pixel values to [0,1]\n",
    "            images.append(img)\n",
    "            labels.append(label)\n",
    "    return np.array(images), np.array(labels)\n",
    "\n",
    "# Load training and testing datasets\n",
    "x_train, y_train = load_images_from_folder(train_dir)\n",
    "x_test, y_test = load_images_from_folder(test_dir)\n",
    "\n",
    "# Reshape images for Keras input\n",
    "x_train = x_train.reshape(-1, img_height, img_width, 1)  # Shape (num_samples, 28, 28, 1)\n",
    "x_test = x_test.reshape(-1, img_height, img_width, 1)\n",
    "\n",
    "# One-hot encode labels\n",
    "y_train = to_categorical(y_train, num_classes=10)\n",
    "y_test = to_categorical(y_test, num_classes=10)\n",
    "\n",
    "# Print dataset shape\n",
    "print(f\"Training set: {x_train.shape}, Labels: {y_train.shape}\")\n",
    "print(f\"Testing set: {x_test.shape}, Labels: {y_test.shape}\")\n",
    "\n",
    "# Visualize some images\n",
    "plt.figure(figsize=(10, 4))\n",
    "for i in range(10):\n",
    "    plt.subplot(2, 5, i + 1)\n",
    "    plt.imshow(x_train[i].reshape(28, 28), cmap='gray')\n",
    "    plt.title(f\"Label: {np.argmax(y_train[i])}\")\n",
    "    plt.axis(\"off\")\n",
    "plt.show()"
   ]
  },
  {
   "cell_type": "markdown",
   "metadata": {},
   "source": [
    "# Task 2: Build the FCN Model\n",
    "\n",
    "- **Model Architecture:**\n",
    "  - Create a Sequential model using Keras.\n",
    "\n",
    "- **Add Hidden Layers:**\n",
    "  - 1st hidden layer: 64 neurons with sigmoid activation.\n",
    "  - 2nd hidden layer: 128 neurons with sigmoid activation.\n",
    "  - 3rd hidden layer: 256 neurons with sigmoid activation.\n",
    "\n",
    "- **Output Layer:**\n",
    "  - Add an output layer with 10 units (for 10 classes) using softmax activation."
   ]
  },
  {
   "cell_type": "code",
   "execution_count": 3,
   "metadata": {},
   "outputs": [
    {
     "data": {
      "text/html": [
       "<pre style=\"white-space:pre;overflow-x:auto;line-height:normal;font-family:Menlo,'DejaVu Sans Mono',consolas,'Courier New',monospace\"><span style=\"font-weight: bold\">Model: \"sequential\"</span>\n",
       "</pre>\n"
      ],
      "text/plain": [
       "\u001b[1mModel: \"sequential\"\u001b[0m\n"
      ]
     },
     "metadata": {},
     "output_type": "display_data"
    },
    {
     "data": {
      "text/html": [
       "<pre style=\"white-space:pre;overflow-x:auto;line-height:normal;font-family:Menlo,'DejaVu Sans Mono',consolas,'Courier New',monospace\">┏━━━━━━━━━━━━━━━━━━━━━━━━━━━━━━━━━┳━━━━━━━━━━━━━━━━━━━━━━━━┳━━━━━━━━━━━━━━━┓\n",
       "┃<span style=\"font-weight: bold\"> Layer (type)                    </span>┃<span style=\"font-weight: bold\"> Output Shape           </span>┃<span style=\"font-weight: bold\">       Param # </span>┃\n",
       "┡━━━━━━━━━━━━━━━━━━━━━━━━━━━━━━━━━╇━━━━━━━━━━━━━━━━━━━━━━━━╇━━━━━━━━━━━━━━━┩\n",
       "│ flatten (<span style=\"color: #0087ff; text-decoration-color: #0087ff\">Flatten</span>)               │ (<span style=\"color: #00d7ff; text-decoration-color: #00d7ff\">None</span>, <span style=\"color: #00af00; text-decoration-color: #00af00\">784</span>)            │             <span style=\"color: #00af00; text-decoration-color: #00af00\">0</span> │\n",
       "├─────────────────────────────────┼────────────────────────┼───────────────┤\n",
       "│ dense (<span style=\"color: #0087ff; text-decoration-color: #0087ff\">Dense</span>)                   │ (<span style=\"color: #00d7ff; text-decoration-color: #00d7ff\">None</span>, <span style=\"color: #00af00; text-decoration-color: #00af00\">64</span>)             │        <span style=\"color: #00af00; text-decoration-color: #00af00\">50,240</span> │\n",
       "├─────────────────────────────────┼────────────────────────┼───────────────┤\n",
       "│ dense_1 (<span style=\"color: #0087ff; text-decoration-color: #0087ff\">Dense</span>)                 │ (<span style=\"color: #00d7ff; text-decoration-color: #00d7ff\">None</span>, <span style=\"color: #00af00; text-decoration-color: #00af00\">128</span>)            │         <span style=\"color: #00af00; text-decoration-color: #00af00\">8,320</span> │\n",
       "├─────────────────────────────────┼────────────────────────┼───────────────┤\n",
       "│ dense_2 (<span style=\"color: #0087ff; text-decoration-color: #0087ff\">Dense</span>)                 │ (<span style=\"color: #00d7ff; text-decoration-color: #00d7ff\">None</span>, <span style=\"color: #00af00; text-decoration-color: #00af00\">256</span>)            │        <span style=\"color: #00af00; text-decoration-color: #00af00\">33,024</span> │\n",
       "├─────────────────────────────────┼────────────────────────┼───────────────┤\n",
       "│ dense_3 (<span style=\"color: #0087ff; text-decoration-color: #0087ff\">Dense</span>)                 │ (<span style=\"color: #00d7ff; text-decoration-color: #00d7ff\">None</span>, <span style=\"color: #00af00; text-decoration-color: #00af00\">10</span>)             │         <span style=\"color: #00af00; text-decoration-color: #00af00\">2,570</span> │\n",
       "└─────────────────────────────────┴────────────────────────┴───────────────┘\n",
       "</pre>\n"
      ],
      "text/plain": [
       "┏━━━━━━━━━━━━━━━━━━━━━━━━━━━━━━━━━┳━━━━━━━━━━━━━━━━━━━━━━━━┳━━━━━━━━━━━━━━━┓\n",
       "┃\u001b[1m \u001b[0m\u001b[1mLayer (type)                   \u001b[0m\u001b[1m \u001b[0m┃\u001b[1m \u001b[0m\u001b[1mOutput Shape          \u001b[0m\u001b[1m \u001b[0m┃\u001b[1m \u001b[0m\u001b[1m      Param #\u001b[0m\u001b[1m \u001b[0m┃\n",
       "┡━━━━━━━━━━━━━━━━━━━━━━━━━━━━━━━━━╇━━━━━━━━━━━━━━━━━━━━━━━━╇━━━━━━━━━━━━━━━┩\n",
       "│ flatten (\u001b[38;5;33mFlatten\u001b[0m)               │ (\u001b[38;5;45mNone\u001b[0m, \u001b[38;5;34m784\u001b[0m)            │             \u001b[38;5;34m0\u001b[0m │\n",
       "├─────────────────────────────────┼────────────────────────┼───────────────┤\n",
       "│ dense (\u001b[38;5;33mDense\u001b[0m)                   │ (\u001b[38;5;45mNone\u001b[0m, \u001b[38;5;34m64\u001b[0m)             │        \u001b[38;5;34m50,240\u001b[0m │\n",
       "├─────────────────────────────────┼────────────────────────┼───────────────┤\n",
       "│ dense_1 (\u001b[38;5;33mDense\u001b[0m)                 │ (\u001b[38;5;45mNone\u001b[0m, \u001b[38;5;34m128\u001b[0m)            │         \u001b[38;5;34m8,320\u001b[0m │\n",
       "├─────────────────────────────────┼────────────────────────┼───────────────┤\n",
       "│ dense_2 (\u001b[38;5;33mDense\u001b[0m)                 │ (\u001b[38;5;45mNone\u001b[0m, \u001b[38;5;34m256\u001b[0m)            │        \u001b[38;5;34m33,024\u001b[0m │\n",
       "├─────────────────────────────────┼────────────────────────┼───────────────┤\n",
       "│ dense_3 (\u001b[38;5;33mDense\u001b[0m)                 │ (\u001b[38;5;45mNone\u001b[0m, \u001b[38;5;34m10\u001b[0m)             │         \u001b[38;5;34m2,570\u001b[0m │\n",
       "└─────────────────────────────────┴────────────────────────┴───────────────┘\n"
      ]
     },
     "metadata": {},
     "output_type": "display_data"
    },
    {
     "data": {
      "text/html": [
       "<pre style=\"white-space:pre;overflow-x:auto;line-height:normal;font-family:Menlo,'DejaVu Sans Mono',consolas,'Courier New',monospace\"><span style=\"font-weight: bold\"> Total params: </span><span style=\"color: #00af00; text-decoration-color: #00af00\">94,154</span> (367.79 KB)\n",
       "</pre>\n"
      ],
      "text/plain": [
       "\u001b[1m Total params: \u001b[0m\u001b[38;5;34m94,154\u001b[0m (367.79 KB)\n"
      ]
     },
     "metadata": {},
     "output_type": "display_data"
    },
    {
     "data": {
      "text/html": [
       "<pre style=\"white-space:pre;overflow-x:auto;line-height:normal;font-family:Menlo,'DejaVu Sans Mono',consolas,'Courier New',monospace\"><span style=\"font-weight: bold\"> Trainable params: </span><span style=\"color: #00af00; text-decoration-color: #00af00\">94,154</span> (367.79 KB)\n",
       "</pre>\n"
      ],
      "text/plain": [
       "\u001b[1m Trainable params: \u001b[0m\u001b[38;5;34m94,154\u001b[0m (367.79 KB)\n"
      ]
     },
     "metadata": {},
     "output_type": "display_data"
    },
    {
     "data": {
      "text/html": [
       "<pre style=\"white-space:pre;overflow-x:auto;line-height:normal;font-family:Menlo,'DejaVu Sans Mono',consolas,'Courier New',monospace\"><span style=\"font-weight: bold\"> Non-trainable params: </span><span style=\"color: #00af00; text-decoration-color: #00af00\">0</span> (0.00 B)\n",
       "</pre>\n"
      ],
      "text/plain": [
       "\u001b[1m Non-trainable params: \u001b[0m\u001b[38;5;34m0\u001b[0m (0.00 B)\n"
      ]
     },
     "metadata": {},
     "output_type": "display_data"
    }
   ],
   "source": [
    "# Model parameters\n",
    "import tensorflow as tf\n",
    "from tensorflow import keras\n",
    "\n",
    "num_classes = 10\n",
    "input_shape = (28, 28, 1)\n",
    "model = keras.Sequential(\n",
    "    [\n",
    "        keras.layers.Input(shape=input_shape),\n",
    "        keras.layers.Flatten(),  # Flatten the 28x28 image to a 784-dimensional vector\n",
    "        keras.layers.Dense(64, activation=\"sigmoid\"),\n",
    "        keras.layers.Dense(128, activation=\"sigmoid\"),\n",
    "        keras.layers.Dense(256, activation=\"sigmoid\"),\n",
    "        keras.layers.Dense(num_classes, activation=\"softmax\"),\n",
    "    ]\n",
    ")\n",
    "\n",
    "model.summary()"
   ]
  },
  {
   "cell_type": "markdown",
   "metadata": {},
   "source": [
    "# Task 3: Compile the Model\n",
    "\n",
    "- **Select an Optimizer:**\n",
    "  - Example: Use Adam optimizer.\n",
    "\n",
    "- **Choose a Loss Function:**\n",
    "  - Example: Use sparse categorical crossentropy (if labels are not one-hot encoded) or categorical crossentropy (if one-hot encoded).\n",
    "\n",
    "- **Define Evaluation Metrics:**\n",
    "  - Example: Use accuracy.\n"
   ]
  },
  {
   "cell_type": "code",
   "execution_count": 4,
   "metadata": {},
   "outputs": [],
   "source": [
    "model.compile(\n",
    "    optimizer = \"sgd\", # Stochastic Gradient Descent\n",
    "    loss = \"categorical_crossentropy\", # Loss function for multi-class classification\n",
    "    metrics = [\"accuracy\"] # Track accuracy during training\n",
    ")"
   ]
  },
  {
   "cell_type": "markdown",
   "metadata": {},
   "source": [
    "# Task 4: Train the Model\n",
    "\n",
    "- **Model Training:**\n",
    "  - Use the `model.fit()` function.\n",
    "  \n",
    "- **Parameters:**\n",
    "  - Batch size: 128\n",
    "  - Number of epochs: 20\n",
    "  - Validation split: 0.2\n",
    "\n",
    "- **Optional:**\n",
    "  - Use callbacks like `ModelCheckpoint` and `EarlyStopping` to save the best model and prevent overfitting.\n"
   ]
  },
  {
   "cell_type": "code",
   "execution_count": 5,
   "metadata": {},
   "outputs": [],
   "source": [
    "import numpy as np\n",
    "import keras\n",
    "import os\n",
    "\n",
    "\n",
    "# Create a custom model checkpoint callback\n",
    "class CustomModelCheckpoint(keras.callbacks.Callback):\n",
    "    def __init__(\n",
    "        self,\n",
    "        filepath,\n",
    "        monitor=\"val_loss\",\n",
    "        verbose=0,\n",
    "        save_best_only=False,\n",
    "        save_weights_only=False,\n",
    "        mode=\"auto\",\n",
    "    ):\n",
    "        super().__init__()\n",
    "        self.filepath = filepath\n",
    "        self.monitor = monitor\n",
    "        self.verbose = verbose\n",
    "        self.save_best_only = save_best_only\n",
    "        self.save_weights_only = save_weights_only\n",
    "\n",
    "        if mode == \"min\" or (mode == \"auto\" and \"loss\" in monitor):\n",
    "            self.monitor_op = np.less\n",
    "            self.best = np.inf  # Use lowercase inf\n",
    "        else:\n",
    "            self.monitor_op = np.greater\n",
    "            self.best = -np.inf  # Use lowercase inf\n",
    "\n",
    "    def on_epoch_end(self, epoch, logs=None):\n",
    "        logs = logs or {}\n",
    "        filepath = self.filepath.format(epoch=epoch + 1, **logs)\n",
    "\n",
    "        if self.save_best_only:\n",
    "            current = logs.get(self.monitor)\n",
    "            if current is None:\n",
    "                return\n",
    "\n",
    "            if self.monitor_op(current, self.best):\n",
    "                if self.verbose > 0:\n",
    "                    print(\n",
    "                        f\"\\nEpoch {epoch + 1}: {self.monitor} improved from {self.best:.5f} to {current:.5f}, saving model to {filepath}\"\n",
    "                    )\n",
    "                self.best = current\n",
    "                if self.save_weights_only:\n",
    "                    self.model.save_weights(filepath, overwrite=True)\n",
    "                else:\n",
    "                    self.model.save(filepath, overwrite=True)\n",
    "            else:\n",
    "                if self.verbose > 0:\n",
    "                    print(\n",
    "                        f\"\\nEpoch {epoch + 1}: {self.monitor} did not improve from {self.best:.5f}\"\n",
    "                    )\n",
    "        else:\n",
    "            if self.verbose > 0:\n",
    "                print(f\"\\nEpoch {epoch + 1}: saving model to {filepath}\")\n",
    "            if self.save_weights_only:\n",
    "                self.model.save_weights(filepath, overwrite=True)\n",
    "            else:\n",
    "                self.model.save(filepath, overwrite=True)"
   ]
  },
  {
   "cell_type": "code",
   "execution_count": 6,
   "metadata": {},
   "outputs": [
    {
     "name": "stdout",
     "output_type": "stream",
     "text": [
      "Epoch 1/20\n",
      "\u001b[1m107/107\u001b[0m \u001b[32m━━━━━━━━━━━━━━━━━━━━\u001b[0m\u001b[37m\u001b[0m \u001b[1m2s\u001b[0m 9ms/step - accuracy: 0.1262 - loss: 2.2451 - val_accuracy: 0.0000e+00 - val_loss: 4.6714\n",
      "Epoch 2/20\n",
      "\u001b[1m107/107\u001b[0m \u001b[32m━━━━━━━━━━━━━━━━━━━━\u001b[0m\u001b[37m\u001b[0m \u001b[1m1s\u001b[0m 6ms/step - accuracy: 0.1369 - loss: 2.0951 - val_accuracy: 0.0000e+00 - val_loss: 5.3060\n",
      "Epoch 3/20\n",
      "\u001b[1m107/107\u001b[0m \u001b[32m━━━━━━━━━━━━━━━━━━━━\u001b[0m\u001b[37m\u001b[0m \u001b[1m1s\u001b[0m 5ms/step - accuracy: 0.1369 - loss: 2.0869 - val_accuracy: 0.0000e+00 - val_loss: 5.6923\n",
      "Epoch 4/20\n",
      "\u001b[1m107/107\u001b[0m \u001b[32m━━━━━━━━━━━━━━━━━━━━\u001b[0m\u001b[37m\u001b[0m \u001b[1m1s\u001b[0m 5ms/step - accuracy: 0.1376 - loss: 2.0832 - val_accuracy: 0.0000e+00 - val_loss: 5.9723\n",
      "Epoch 5/20\n",
      "\u001b[1m107/107\u001b[0m \u001b[32m━━━━━━━━━━━━━━━━━━━━\u001b[0m\u001b[37m\u001b[0m \u001b[1m1s\u001b[0m 5ms/step - accuracy: 0.1342 - loss: 2.0821 - val_accuracy: 0.0000e+00 - val_loss: 6.1894\n"
     ]
    }
   ],
   "source": [
    "# Use the custom checkpoint\n",
    "batch_size = 128\n",
    "epochs = 20\n",
    "# Callbacks\n",
    "callbacks = [\n",
    "    CustomModelCheckpoint(filepath=\"model_at_epoch_{epoch}.keras\"),\n",
    "    keras.callbacks.EarlyStopping(monitor=\"val_loss\", patience=4),\n",
    "]\n",
    "# Train the model with callbacks and validation split\n",
    "history = model.fit(\n",
    "    x_train,\n",
    "    y_train,\n",
    "    batch_size=batch_size,\n",
    "    epochs=epochs,\n",
    "    validation_split=0.2,\n",
    "    callbacks=callbacks,\n",
    ")"
   ]
  },
  {
   "cell_type": "code",
   "execution_count": 7,
   "metadata": {},
   "outputs": [
    {
     "data": {
      "image/png": "[encoded data removed]",
      "text/plain": [
       "<Figure size 1200x600 with 2 Axes>"
      ]
     },
     "metadata": {},
     "output_type": "display_data"
    }
   ],
   "source": [
    "# Extracting training and validation loss\n",
    "train_loss = history.history['loss']\n",
    "val_loss = history.history['val_loss']\n",
    "\n",
    "# Extracting training and validation accuracy (if metrics were specified)\n",
    "train_acc = history.history['accuracy']\n",
    "val_acc = history.history['val_accuracy']\n",
    "\n",
    "# Plotting training and validation loss\n",
    "plt.figure(figsize=(12, 6))\n",
    "plt.subplot(1, 2, 1)\n",
    "plt.plot(range(1, len(train_loss) + 1), train_loss, label='Training Loss', color='blue')\n",
    "plt.plot(range(1, len(val_loss) + 1), val_loss, label='Validation Loss', color='orange')\n",
    "plt.xlabel('Epochs')\n",
    "plt.ylabel('Loss')\n",
    "plt.title('Training and Validation Loss')\n",
    "plt.legend()\n",
    "\n",
    "# Plotting training and validation accuracy\n",
    "plt.subplot(1, 2, 2)\n",
    "plt.plot(range(1, len(train_acc) + 1), train_acc, label='Training Accuracy', color='blue')\n",
    "plt.plot(range(1, len(val_acc) + 1), val_acc, label='Validation Accuracy', color='orange')\n",
    "plt.xlabel('Epochs')\n",
    "plt.ylabel('Accuracy')\n",
    "plt.title('Training and Validation Accuracy')\n",
    "plt.legend()\n",
    "\n",
    "plt.tight_layout()\n",
    "plt.show()"
   ]
  },
  {
   "cell_type": "markdown",
   "metadata": {},
   "source": [
    "# Task 5: Evaluate the Model\n",
    "\n",
    "- **Model Evaluation:**\n",
    "  - Use the `model.evaluate()` function on the test set.\n",
    "  - Assess the model's performance in terms of loss and accuracy."
   ]
  },
  {
   "cell_type": "code",
   "execution_count": 8,
   "metadata": {},
   "outputs": [
    {
     "name": "stdout",
     "output_type": "stream",
     "text": [
      "94/94 - 0s - 2ms/step - accuracy: 0.1377 - loss: 2.9020\n",
      "Test accuracy: 0.1377\n"
     ]
    }
   ],
   "source": [
    "test_loss, test_acc = model.evaluate(x_test, y_test, verbose=2)\n",
    "print(f\"Test accuracy: {test_acc:.4f}\")"
   ]
  },
  {
   "cell_type": "markdown",
   "metadata": {},
   "source": [
    "# Task 6: Save and Load the Model\n",
    "\n",
    "- **Saving the Model:**\n",
    "  - Use `model.save('your_model_name.h5')` to save the trained model.\n",
    "\n",
    "- **Loading the Model:**\n",
    "  - Use `tf.keras.models.load_model('your_model_name.h5')` to load the saved model.\n",
    "  - Re-evaluate its performance on the test set."
   ]
  },
  {
   "cell_type": "code",
   "execution_count": 9,
   "metadata": {},
   "outputs": [
    {
     "name": "stderr",
     "output_type": "stream",
     "text": [
      "WARNING:absl:You are saving your model as an HDF5 file via `model.save()` or `keras.saving.save_model(model)`. This file format is considered legacy. We recommend using instead the native Keras format, e.g. `model.save('my_model.keras')` or `keras.saving.save_model(model, 'my_model.keras')`. \n",
      "WARNING:absl:Compiled the loaded model, but the compiled metrics have yet to be built. `model.compile_metrics` will be empty until you train or evaluate the model.\n"
     ]
    },
    {
     "name": "stdout",
     "output_type": "stream",
     "text": [
      "94/94 - 1s - 7ms/step - accuracy: 0.1377 - loss: 2.9020\n",
      "Loaded model test accuracy: 0.1377\n"
     ]
    }
   ],
   "source": [
    "# Save the trained model\n",
    "model.save('devnagari_digit_model.h5')\n",
    "\n",
    "# Load the saved model\n",
    "model = tf.keras.models.load_model('devnagari_digit_model.h5')\n",
    "\n",
    "# Re-evaluate the loaded model on the test set\n",
    "loaded_test_loss, loaded_test_acc = model.evaluate(x_test, y_test, verbose=2)\n",
    "print(f\"Loaded model test accuracy: {loaded_test_acc:.4f}\")"
   ]
  },
  {
   "cell_type": "markdown",
   "metadata": {},
   "source": [
    "# Task 7: Predictions\n",
    "\n",
    "- **Making Predictions:**\n",
    "  - Use the `model.predict()` function to predict on test images.\n",
    "  \n",
    "- **Post-Processing:**\n",
    "  - Convert predicted probabilities to digit labels using `np.argmax()`.\n",
    "\n",
    "- **Verification:**\n",
    "  - Compare predicted labels with true labels for validation.\n"
   ]
  },
  {
   "cell_type": "code",
   "execution_count": 10,
   "metadata": {},
   "outputs": [
    {
     "name": "stdout",
     "output_type": "stream",
     "text": [
      "\u001b[1m94/94\u001b[0m \u001b[32m━━━━━━━━━━━━━━━━━━━━\u001b[0m\u001b[37m\u001b[0m \u001b[1m0s\u001b[0m 3ms/step\n",
      "Predicted label for first image: 6\n",
      "True label for first image: 0\n"
     ]
    }
   ],
   "source": [
    "# Predict on test data\n",
    "predictions = model.predict(x_test)\n",
    "# Convert predictions from probabilities to digit labels\n",
    "predicted_labels = np.argmax(predictions, axis=1)\n",
    "# Check the first prediction\n",
    "print(f\"Predicted label for first image: {predicted_labels[0]}\")\n",
    "print(f\"True label for first image: {np.argmax(y_test[0])}\")"
   ]
  }
 ],
 "metadata": {
  "kernelspec": {
   "display_name": "usr",
   "language": "python",
   "name": "python3"
  },
  "language_info": {
   "codemirror_mode": {
    "name": "ipython",
    "version": 3
   },
   "file_extension": ".py",
   "mimetype": "text/x-python",
   "name": "python",
   "nbconvert_exporter": "python",
   "pygments_lexer": "ipython3",
   "version": "3.13.2"
  }
 },
 "nbformat": 4,
 "nbformat_minor": 2
}
